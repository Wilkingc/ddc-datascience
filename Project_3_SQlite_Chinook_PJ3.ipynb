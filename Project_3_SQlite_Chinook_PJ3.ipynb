{
  "nbformat": 4,
  "nbformat_minor": 0,
  "metadata": {
    "colab": {
      "provenance": [],
      "authorship_tag": "ABX9TyP+34D6ztqVJv612p4uI4YQ",
      "include_colab_link": true
    },
    "kernelspec": {
      "name": "python3",
      "display_name": "Python 3"
    },
    "language_info": {
      "name": "python"
    }
  },
  "cells": [
    {
      "cell_type": "markdown",
      "metadata": {
        "id": "view-in-github",
        "colab_type": "text"
      },
      "source": [
        "<a href=\"https://colab.research.google.com/github/Wilkingc/ddc-datascience/blob/main/Project_3_SQlite_Chinook_PJ3.ipynb\" target=\"_parent\"><img src=\"https://colab.research.google.com/assets/colab-badge.svg\" alt=\"Open In Colab\"/></a>"
      ]
    },
    {
      "cell_type": "markdown",
      "source": [
        "# Project 3A\n"
      ],
      "metadata": {
        "id": "bK-R_cG7uUTQ"
      }
    },
    {
      "cell_type": "markdown",
      "source": [
        "## Project Description\n"
      ],
      "metadata": {
        "id": "t0AREciEuaFk"
      }
    },
    {
      "cell_type": "markdown",
      "source": [
        "## Setting up enviroment and loading the data"
      ],
      "metadata": {
        "id": "bAj3YRyYud8x"
      }
    },
    {
      "cell_type": "markdown",
      "source": [
        "### Imports\n"
      ],
      "metadata": {
        "id": "ZNyAaQ7TumSV"
      }
    },
    {
      "cell_type": "markdown",
      "source": [
        "Let's import Bash and SQlite3"
      ],
      "metadata": {
        "id": "1iR7oXYX2c6K"
      }
    },
    {
      "cell_type": "code",
      "execution_count": null,
      "metadata": {
        "id": "k8jOi_e2t9mD"
      },
      "outputs": [],
      "source": [
        "%%capture\n",
        "%%bash\n",
        "apt-get update\n",
        "apt-get install -y sqlite3"
      ]
    },
    {
      "cell_type": "code",
      "source": [
        "%%bash\n",
        "[ -f chinook.zip ] ||\n",
        "  curl -s -O https://www.sqlitetutorial.net/wp-content/uploads/2018/03/chinook.zip\n",
        "unzip -l chinook.zip"
      ],
      "metadata": {
        "colab": {
          "base_uri": "https://localhost:8080/"
        },
        "id": "BnCvAIxnupQe",
        "outputId": "5c96f411-7546-46ee-d56b-888957cf8a36"
      },
      "execution_count": null,
      "outputs": [
        {
          "output_type": "stream",
          "name": "stdout",
          "text": [
            "Archive:  chinook.zip\n",
            "  Length      Date    Time    Name\n",
            "---------  ---------- -----   ----\n",
            "   884736  2015-11-29 10:53   chinook.db\n",
            "---------                     -------\n",
            "   884736                     1 file\n"
          ]
        }
      ]
    },
    {
      "cell_type": "markdown",
      "source": [
        "Here we unzip the dataset"
      ],
      "metadata": {
        "id": "s573vnSP2lm8"
      }
    },
    {
      "cell_type": "code",
      "source": [
        "!unzip -u chinook.zip"
      ],
      "metadata": {
        "colab": {
          "base_uri": "https://localhost:8080/"
        },
        "id": "dZihz_tsus98",
        "outputId": "633d87a6-0509-4bdd-f9e6-423fbf0046f0"
      },
      "execution_count": null,
      "outputs": [
        {
          "output_type": "stream",
          "name": "stdout",
          "text": [
            "Archive:  chinook.zip\n",
            "  inflating: chinook.db              \n"
          ]
        }
      ]
    },
    {
      "cell_type": "markdown",
      "source": [
        "Let's use the comand line to make sure Chinook is in our directory"
      ],
      "metadata": {
        "id": "4BRgVmzH2qwP"
      }
    },
    {
      "cell_type": "code",
      "source": [
        "!ls -l"
      ],
      "metadata": {
        "colab": {
          "base_uri": "https://localhost:8080/"
        },
        "id": "n05y6A2UuxVR",
        "outputId": "65ed40b7-901a-4e4c-ebde-ac4ebd6b0001"
      },
      "execution_count": null,
      "outputs": [
        {
          "output_type": "stream",
          "name": "stdout",
          "text": [
            "total 1168\n",
            "-rw-r--r-- 1 root root 884736 Nov 29  2015 chinook.db\n",
            "-rw-r--r-- 1 root root 305596 Oct 29 02:17 chinook.zip\n",
            "drwxr-xr-x 1 root root   4096 Sep 20 13:22 sample_data\n",
            "-rw-r--r-- 1 root root      0 Oct 29 02:17 your_database.db\n"
          ]
        }
      ]
    },
    {
      "cell_type": "markdown",
      "source": [
        "### Dataset characteristics"
      ],
      "metadata": {
        "id": "flzI82AL4Xg3"
      }
    },
    {
      "cell_type": "code",
      "source": [
        "%%script sqlite3 --column --header chinook.db\n",
        ".tables\n"
      ],
      "metadata": {
        "colab": {
          "base_uri": "https://localhost:8080/"
        },
        "id": "jTDtE-0Ru4K9",
        "outputId": "1297439e-7697-4ec8-c8c6-5b6a82b43b47"
      },
      "execution_count": null,
      "outputs": [
        {
          "output_type": "stream",
          "name": "stdout",
          "text": [
            "albums          employees       invoices        playlists     \n",
            "artists         genres          media_types     tracks        \n",
            "customers       invoice_items   playlist_track\n"
          ]
        }
      ]
    },
    {
      "cell_type": "code",
      "source": [
        "# Show the schema for the entire database\n",
        "%%script sqlite3 --column --header chinook.db\n",
        ".schema"
      ],
      "metadata": {
        "colab": {
          "base_uri": "https://localhost:8080/"
        },
        "collapsed": true,
        "id": "xSBRvdMeu-cV",
        "outputId": "11728afb-9ede-446b-b173-537a47894cca"
      },
      "execution_count": null,
      "outputs": [
        {
          "output_type": "stream",
          "name": "stdout",
          "text": [
            "CREATE TABLE IF NOT EXISTS \"albums\"\r\n",
            "(\r\n",
            "    [AlbumId] INTEGER PRIMARY KEY AUTOINCREMENT NOT NULL,\r\n",
            "    [Title] NVARCHAR(160)  NOT NULL,\r\n",
            "    [ArtistId] INTEGER  NOT NULL,\r\n",
            "    FOREIGN KEY ([ArtistId]) REFERENCES \"artists\" ([ArtistId]) \r\n",
            "\t\tON DELETE NO ACTION ON UPDATE NO ACTION\r\n",
            ");\n",
            "CREATE TABLE sqlite_sequence(name,seq);\n",
            "CREATE TABLE IF NOT EXISTS \"artists\"\r\n",
            "(\r\n",
            "    [ArtistId] INTEGER PRIMARY KEY AUTOINCREMENT NOT NULL,\r\n",
            "    [Name] NVARCHAR(120)\r\n",
            ");\n",
            "CREATE TABLE IF NOT EXISTS \"customers\"\r\n",
            "(\r\n",
            "    [CustomerId] INTEGER PRIMARY KEY AUTOINCREMENT NOT NULL,\r\n",
            "    [FirstName] NVARCHAR(40)  NOT NULL,\r\n",
            "    [LastName] NVARCHAR(20)  NOT NULL,\r\n",
            "    [Company] NVARCHAR(80),\r\n",
            "    [Address] NVARCHAR(70),\r\n",
            "    [City] NVARCHAR(40),\r\n",
            "    [State] NVARCHAR(40),\r\n",
            "    [Country] NVARCHAR(40),\r\n",
            "    [PostalCode] NVARCHAR(10),\r\n",
            "    [Phone] NVARCHAR(24),\r\n",
            "    [Fax] NVARCHAR(24),\r\n",
            "    [Email] NVARCHAR(60)  NOT NULL,\r\n",
            "    [SupportRepId] INTEGER,\r\n",
            "    FOREIGN KEY ([SupportRepId]) REFERENCES \"employees\" ([EmployeeId]) \r\n",
            "\t\tON DELETE NO ACTION ON UPDATE NO ACTION\r\n",
            ");\n",
            "CREATE TABLE IF NOT EXISTS \"employees\"\r\n",
            "(\r\n",
            "    [EmployeeId] INTEGER PRIMARY KEY AUTOINCREMENT NOT NULL,\r\n",
            "    [LastName] NVARCHAR(20)  NOT NULL,\r\n",
            "    [FirstName] NVARCHAR(20)  NOT NULL,\r\n",
            "    [Title] NVARCHAR(30),\r\n",
            "    [ReportsTo] INTEGER,\r\n",
            "    [BirthDate] DATETIME,\r\n",
            "    [HireDate] DATETIME,\r\n",
            "    [Address] NVARCHAR(70),\r\n",
            "    [City] NVARCHAR(40),\r\n",
            "    [State] NVARCHAR(40),\r\n",
            "    [Country] NVARCHAR(40),\r\n",
            "    [PostalCode] NVARCHAR(10),\r\n",
            "    [Phone] NVARCHAR(24),\r\n",
            "    [Fax] NVARCHAR(24),\r\n",
            "    [Email] NVARCHAR(60),\r\n",
            "    FOREIGN KEY ([ReportsTo]) REFERENCES \"employees\" ([EmployeeId]) \r\n",
            "\t\tON DELETE NO ACTION ON UPDATE NO ACTION\r\n",
            ");\n",
            "CREATE TABLE IF NOT EXISTS \"genres\"\r\n",
            "(\r\n",
            "    [GenreId] INTEGER PRIMARY KEY AUTOINCREMENT NOT NULL,\r\n",
            "    [Name] NVARCHAR(120)\r\n",
            ");\n",
            "CREATE TABLE IF NOT EXISTS \"invoices\"\r\n",
            "(\r\n",
            "    [InvoiceId] INTEGER PRIMARY KEY AUTOINCREMENT NOT NULL,\r\n",
            "    [CustomerId] INTEGER  NOT NULL,\r\n",
            "    [InvoiceDate] DATETIME  NOT NULL,\r\n",
            "    [BillingAddress] NVARCHAR(70),\r\n",
            "    [BillingCity] NVARCHAR(40),\r\n",
            "    [BillingState] NVARCHAR(40),\r\n",
            "    [BillingCountry] NVARCHAR(40),\r\n",
            "    [BillingPostalCode] NVARCHAR(10),\r\n",
            "    [Total] NUMERIC(10,2)  NOT NULL,\r\n",
            "    FOREIGN KEY ([CustomerId]) REFERENCES \"customers\" ([CustomerId]) \r\n",
            "\t\tON DELETE NO ACTION ON UPDATE NO ACTION\r\n",
            ");\n",
            "CREATE TABLE IF NOT EXISTS \"invoice_items\"\r\n",
            "(\r\n",
            "    [InvoiceLineId] INTEGER PRIMARY KEY AUTOINCREMENT NOT NULL,\r\n",
            "    [InvoiceId] INTEGER  NOT NULL,\r\n",
            "    [TrackId] INTEGER  NOT NULL,\r\n",
            "    [UnitPrice] NUMERIC(10,2)  NOT NULL,\r\n",
            "    [Quantity] INTEGER  NOT NULL,\r\n",
            "    FOREIGN KEY ([InvoiceId]) REFERENCES \"invoices\" ([InvoiceId]) \r\n",
            "\t\tON DELETE NO ACTION ON UPDATE NO ACTION,\r\n",
            "    FOREIGN KEY ([TrackId]) REFERENCES \"tracks\" ([TrackId]) \r\n",
            "\t\tON DELETE NO ACTION ON UPDATE NO ACTION\r\n",
            ");\n",
            "CREATE TABLE IF NOT EXISTS \"media_types\"\r\n",
            "(\r\n",
            "    [MediaTypeId] INTEGER PRIMARY KEY AUTOINCREMENT NOT NULL,\r\n",
            "    [Name] NVARCHAR(120)\r\n",
            ");\n",
            "CREATE TABLE IF NOT EXISTS \"playlists\"\r\n",
            "(\r\n",
            "    [PlaylistId] INTEGER PRIMARY KEY AUTOINCREMENT NOT NULL,\r\n",
            "    [Name] NVARCHAR(120)\r\n",
            ");\n",
            "CREATE TABLE IF NOT EXISTS \"playlist_track\"\r\n",
            "(\r\n",
            "    [PlaylistId] INTEGER  NOT NULL,\r\n",
            "    [TrackId] INTEGER  NOT NULL,\r\n",
            "    CONSTRAINT [PK_PlaylistTrack] PRIMARY KEY  ([PlaylistId], [TrackId]),\r\n",
            "    FOREIGN KEY ([PlaylistId]) REFERENCES \"playlists\" ([PlaylistId]) \r\n",
            "\t\tON DELETE NO ACTION ON UPDATE NO ACTION,\r\n",
            "    FOREIGN KEY ([TrackId]) REFERENCES \"tracks\" ([TrackId]) \r\n",
            "\t\tON DELETE NO ACTION ON UPDATE NO ACTION\r\n",
            ");\n",
            "CREATE TABLE IF NOT EXISTS \"tracks\"\r\n",
            "(\r\n",
            "    [TrackId] INTEGER PRIMARY KEY AUTOINCREMENT NOT NULL,\r\n",
            "    [Name] NVARCHAR(200)  NOT NULL,\r\n",
            "    [AlbumId] INTEGER,\r\n",
            "    [MediaTypeId] INTEGER  NOT NULL,\r\n",
            "    [GenreId] INTEGER,\r\n",
            "    [Composer] NVARCHAR(220),\r\n",
            "    [Milliseconds] INTEGER  NOT NULL,\r\n",
            "    [Bytes] INTEGER,\r\n",
            "    [UnitPrice] NUMERIC(10,2)  NOT NULL,\r\n",
            "    FOREIGN KEY ([AlbumId]) REFERENCES \"albums\" ([AlbumId]) \r\n",
            "\t\tON DELETE NO ACTION ON UPDATE NO ACTION,\r\n",
            "    FOREIGN KEY ([GenreId]) REFERENCES \"genres\" ([GenreId]) \r\n",
            "\t\tON DELETE NO ACTION ON UPDATE NO ACTION,\r\n",
            "    FOREIGN KEY ([MediaTypeId]) REFERENCES \"media_types\" ([MediaTypeId]) \r\n",
            "\t\tON DELETE NO ACTION ON UPDATE NO ACTION\r\n",
            ");\n",
            "CREATE INDEX [IFK_AlbumArtistId] ON \"albums\" ([ArtistId]);\n",
            "CREATE INDEX [IFK_CustomerSupportRepId] ON \"customers\" ([SupportRepId]);\n",
            "CREATE INDEX [IFK_EmployeeReportsTo] ON \"employees\" ([ReportsTo]);\n",
            "CREATE INDEX [IFK_InvoiceCustomerId] ON \"invoices\" ([CustomerId]);\n",
            "CREATE INDEX [IFK_InvoiceLineInvoiceId] ON \"invoice_items\" ([InvoiceId]);\n",
            "CREATE INDEX [IFK_InvoiceLineTrackId] ON \"invoice_items\" ([TrackId]);\n",
            "CREATE INDEX [IFK_PlaylistTrackTrackId] ON \"playlist_track\" ([TrackId]);\n",
            "CREATE INDEX [IFK_TrackAlbumId] ON \"tracks\" ([AlbumId]);\n",
            "CREATE INDEX [IFK_TrackGenreId] ON \"tracks\" ([GenreId]);\n",
            "CREATE INDEX [IFK_TrackMediaTypeId] ON \"tracks\" ([MediaTypeId]);\n",
            "CREATE TABLE sqlite_stat1(tbl,idx,stat);\n"
          ]
        }
      ]
    },
    {
      "cell_type": "markdown",
      "source": [
        "How many tables do we have and how many rows are in each one of them?"
      ],
      "metadata": {
        "id": "MYgbjNStH_oq"
      }
    },
    {
      "cell_type": "code",
      "source": [
        "%%script sqlite3 --column --header chinook.db\n",
        "\n",
        "SELECT 'albums' AS table_name, COUNT(*) AS row_count FROM albums\n",
        "UNION ALL\n",
        "SELECT 'artists' AS table_name, COUNT(*) AS row_count FROM artists\n",
        "UNION ALL\n",
        "SELECT 'customers' AS table_name, COUNT(*) AS row_count FROM customers\n",
        "UNION ALL\n",
        "SELECT 'employees' AS table_name, COUNT(*) AS row_count FROM employees\n",
        "UNION ALL\n",
        "SELECT 'genres' AS table_name, COUNT(*) AS row_count FROM genres\n",
        "UNION ALL\n",
        "SELECT 'invoice_items' AS table_name, COUNT(*) AS row_count FROM invoice_items\n",
        "UNION ALL\n",
        "SELECT 'invoices' AS table_name, COUNT(*) AS row_count FROM invoices\n",
        "UNION ALL\n",
        "SELECT 'media_types' AS table_name, COUNT(*) AS row_count FROM media_types\n",
        "UNION ALL\n",
        "SELECT 'playlist_track' AS table_name, COUNT(*) AS row_count FROM playlist_track\n",
        "UNION ALL\n",
        "SELECT 'playlists' AS table_name, COUNT(*) AS row_count FROM playlists\n",
        "UNION ALL\n",
        "SELECT 'tracks' AS table_name, COUNT(*) AS row_count FROM tracks;"
      ],
      "metadata": {
        "colab": {
          "base_uri": "https://localhost:8080/"
        },
        "id": "PsuBWncEi3m-",
        "outputId": "9420267c-acf8-4350-c711-4a118af6ba2c"
      },
      "execution_count": null,
      "outputs": [
        {
          "output_type": "stream",
          "name": "stdout",
          "text": [
            "table_name      row_count\n",
            "--------------  ---------\n",
            "albums          347      \n",
            "artists         275      \n",
            "customers       59       \n",
            "employees       8        \n",
            "genres          25       \n",
            "invoice_items   2240     \n",
            "invoices        412      \n",
            "media_types     5        \n",
            "playlist_track  8715     \n",
            "playlists       18       \n",
            "tracks          3503     \n"
          ]
        }
      ]
    },
    {
      "cell_type": "markdown",
      "source": [
        "Query the info of artists table"
      ],
      "metadata": {
        "id": "hWjYjDz0IFL-"
      }
    },
    {
      "cell_type": "code",
      "source": [
        "%%script sqlite3 --column --header chinook.db\n",
        "\n",
        "PRAGMA table_info(artists);"
      ],
      "metadata": {
        "colab": {
          "base_uri": "https://localhost:8080/"
        },
        "id": "uZwfQa7Qf4-x",
        "outputId": "c82166ff-498f-4329-ead5-7ff0544f6600"
      },
      "execution_count": null,
      "outputs": [
        {
          "output_type": "stream",
          "name": "stdout",
          "text": [
            "cid  name      type           notnull  dflt_value  pk\n",
            "---  --------  -------------  -------  ----------  --\n",
            "0    ArtistId  INTEGER        1                    1 \n",
            "1    Name      NVARCHAR(120)  0                    0 \n"
          ]
        }
      ]
    },
    {
      "cell_type": "markdown",
      "source": [
        "Let's display the customers table"
      ],
      "metadata": {
        "id": "1mHdn_5dIK9h"
      }
    },
    {
      "cell_type": "code",
      "source": [
        "  # Select the first 10 entries from the employees table\n",
        "%%script sqlite3 --column --header chinook.db\n",
        "select *\n",
        "from customers\n",
        "limit 10\n"
      ],
      "metadata": {
        "colab": {
          "base_uri": "https://localhost:8080/"
        },
        "id": "lzQlfOSAvBBl",
        "outputId": "2ac54105-8715-4da7-b8eb-b0718f560519",
        "collapsed": true
      },
      "execution_count": null,
      "outputs": [
        {
          "output_type": "stream",
          "name": "stdout",
          "text": [
            "CustomerId  FirstName  LastName     Company                                           Address                               City                 State  Country         PostalCode  Phone               Fax                 Email                     SupportRepId\n",
            "----------  ---------  -----------  ------------------------------------------------  ------------------------------------  -------------------  -----  --------------  ----------  ------------------  ------------------  ------------------------  ------------\n",
            "1           Luís       Gonçalves    Embraer - Empresa Brasileira de Aeronáutica S.A.  Av. Brigadeiro Faria Lima, 2170       São José dos Campos  SP     Brazil          12227-000   +55 (12) 3923-5555  +55 (12) 3923-5566  luisg@embraer.com.br      3           \n",
            "2           Leonie     Köhler                                                         Theodor-Heuss-Straße 34               Stuttgart                   Germany         70174       +49 0711 2842222                        leonekohler@surfeu.de     5           \n",
            "3           François   Tremblay                                                       1498 rue Bélanger                     Montréal             QC     Canada          H2G 1A7     +1 (514) 721-4711                       ftremblay@gmail.com       3           \n",
            "4           Bjørn      Hansen                                                         Ullevålsveien 14                      Oslo                        Norway          0171        +47 22 44 22 22                         bjorn.hansen@yahoo.no     4           \n",
            "5           František  Wichterlová  JetBrains s.r.o.                                  Klanova 9/506                         Prague                      Czech Republic  14700       +420 2 4172 5555    +420 2 4172 5555    frantisekw@jetbrains.com  4           \n",
            "6           Helena     Holý                                                           Rilská 3174/6                         Prague                      Czech Republic  14300       +420 2 4177 0449                        hholy@gmail.com           5           \n",
            "7           Astrid     Gruber                                                         Rotenturmstraße 4, 1010 Innere Stadt  Vienne                      Austria         1010        +43 01 5134505                          astrid.gruber@apple.at    5           \n",
            "8           Daan       Peeters                                                        Grétrystraat 63                       Brussels                    Belgium         1000        +32 02 219 03 03                        daan_peeters@apple.be     4           \n",
            "9           Kara       Nielsen                                                        Sønder Boulevard 51                   Copenhagen                  Denmark         1720        +453 3331 9991                          kara.nielsen@jubii.dk     4           \n",
            "10          Eduardo    Martins      Woodstock Discos                                  Rua Dr. Falcão Filho, 155             São Paulo            SP     Brazil          01007-010   +55 (11) 3033-5446  +55 (11) 3033-4564  eduardo@woodstock.com.br  4           \n"
          ]
        }
      ]
    },
    {
      "cell_type": "markdown",
      "source": [
        "## Let's ask some questions about this Dataset"
      ],
      "metadata": {
        "id": "FIn2_wl4wOQf"
      }
    },
    {
      "cell_type": "markdown",
      "source": [
        "When did we hire the first employee?"
      ],
      "metadata": {
        "id": "qFeiUGG1H4Ld"
      }
    },
    {
      "cell_type": "code",
      "source": [
        "%%script sqlite3 --column --header chinook.db\n",
        "\n",
        "select min(hiredate)\n",
        "from employees"
      ],
      "metadata": {
        "colab": {
          "base_uri": "https://localhost:8080/"
        },
        "id": "e9i7vDFvVY09",
        "outputId": "11c2358f-1b93-43b2-e8cd-a33166776653"
      },
      "execution_count": null,
      "outputs": [
        {
          "output_type": "stream",
          "name": "stdout",
          "text": [
            "min(hiredate)      \n",
            "-------------------\n",
            "2002-04-01 00:00:00\n"
          ]
        }
      ]
    },
    {
      "cell_type": "markdown",
      "source": [
        "What's the name of the first hired and the city where they're from?"
      ],
      "metadata": {
        "id": "itFN1r3KHxBp"
      }
    },
    {
      "cell_type": "code",
      "source": [
        "%%script sqlite3 --column --header chinook.db\n",
        "\n",
        "select city, firstname,lastname\n",
        "from employees\n",
        "where hiredate = '2002-04-01 00:00:00'"
      ],
      "metadata": {
        "colab": {
          "base_uri": "https://localhost:8080/"
        },
        "id": "JgaU4GS4WBA7",
        "outputId": "bd7dc9af-a8e1-454a-a0a7-d33aae729c20"
      },
      "execution_count": null,
      "outputs": [
        {
          "output_type": "stream",
          "name": "stdout",
          "text": [
            "City     FirstName  LastName\n",
            "-------  ---------  --------\n",
            "Calgary  Jane       Peacock \n"
          ]
        }
      ]
    },
    {
      "cell_type": "markdown",
      "source": [
        "What's the name of the GM?"
      ],
      "metadata": {
        "id": "n_6tD9ghHs5J"
      }
    },
    {
      "cell_type": "code",
      "source": [
        "%%script sqlite3 --column --header chinook.db\n",
        "\n",
        "select firstname, lastname\n",
        "from employees\n",
        "where title = 'General Manager'"
      ],
      "metadata": {
        "id": "8Q00DJVOT74E",
        "colab": {
          "base_uri": "https://localhost:8080/"
        },
        "outputId": "a35852fe-bc43-4f8b-8ccf-437624dbbf60"
      },
      "execution_count": null,
      "outputs": [
        {
          "output_type": "stream",
          "name": "stdout",
          "text": [
            "FirstName  LastName\n",
            "---------  --------\n",
            "Andrew     Adams   \n"
          ]
        }
      ]
    },
    {
      "cell_type": "markdown",
      "source": [
        "What's the average unit price for tracks in the latin genre?"
      ],
      "metadata": {
        "id": "IK13ISwPHfSP"
      }
    },
    {
      "cell_type": "code",
      "source": [
        "%%script sqlite3 --column --header chinook.db\n",
        "\n",
        "SELECT AVG(tracks.unitprice)\n",
        "from tracks\n",
        "JOIN genres\n",
        "ON tracks.genreId = genres.genreId\n",
        "WHERE genres.name = 'Latin';"
      ],
      "metadata": {
        "colab": {
          "base_uri": "https://localhost:8080/"
        },
        "collapsed": true,
        "id": "9etkOtLZi3kH",
        "outputId": "b51bfe77-1fdb-4916-ffc3-5c711d5684c2"
      },
      "execution_count": null,
      "outputs": [
        {
          "output_type": "stream",
          "name": "stdout",
          "text": [
            "AVG(tracks.unitprice)\n",
            "---------------------\n",
            "0.990000000000007    \n"
          ]
        }
      ]
    },
    {
      "cell_type": "markdown",
      "source": [
        "How many invoices greater than $10 do we have?"
      ],
      "metadata": {
        "id": "syrZVTxwHVvG"
      }
    },
    {
      "cell_type": "code",
      "source": [
        "%%script sqlite3 --column --header chinook.db\n",
        "\n",
        "select count(customers.customerid)\n",
        "from customers\n",
        "join invoices\n",
        "on customers.customerid = invoices.customerid\n",
        "where invoices.customerid > 10"
      ],
      "metadata": {
        "colab": {
          "base_uri": "https://localhost:8080/"
        },
        "collapsed": true,
        "id": "qnDG24FCi3g-",
        "outputId": "03b4303a-a627-4001-d5b1-5c4c7b193796"
      },
      "execution_count": null,
      "outputs": [
        {
          "output_type": "stream",
          "name": "stdout",
          "text": [
            "count(customers.customerid)\n",
            "---------------------------\n",
            "342                        \n"
          ]
        }
      ]
    },
    {
      "cell_type": "markdown",
      "source": [
        "Which customers did these transactions?"
      ],
      "metadata": {
        "id": "qqF_M5osHRDr"
      }
    },
    {
      "cell_type": "code",
      "source": [
        "%%script sqlite3 --column --header chinook.db\n",
        "\n",
        "SELECT customers.customerid,customers.firstname, customers.lastname\n",
        "FROM customers\n",
        "JOIN invoices\n",
        "ON customers.customerid = invoices.customerid\n",
        "GROUP BY customers.customerid\n",
        "HAVING COUNT(invoices.invoiceid) > 10;"
      ],
      "metadata": {
        "id": "s3imASByi3d1"
      },
      "execution_count": null,
      "outputs": []
    },
    {
      "cell_type": "markdown",
      "source": [
        "Which one is the longest track and by who?"
      ],
      "metadata": {
        "id": "y2iu5HkcHJ_x"
      }
    },
    {
      "cell_type": "code",
      "source": [
        "%%script sqlite3 --column --header chinook.db\n",
        "\n",
        "SELECT max(milliseconds),(tracks.name)\n",
        "FROM playlists\n",
        "JOIN playlist_track\n",
        "ON playlists.playlistid = playlist_track.playlistid\n",
        "JOIN tracks\n",
        "ON playlist_track.trackid = tracks.trackid\n",
        "limit 10\n",
        "\n"
      ],
      "metadata": {
        "colab": {
          "base_uri": "https://localhost:8080/"
        },
        "id": "-9sg2fTMi3bD",
        "outputId": "3efe9548-f135-4a0c-857b-000d130757c3"
      },
      "execution_count": null,
      "outputs": [
        {
          "output_type": "stream",
          "name": "stdout",
          "text": [
            "max(milliseconds)  Name                  \n",
            "-----------------  ----------------------\n",
            "5286953            Occupation / Precipice\n"
          ]
        }
      ]
    },
    {
      "cell_type": "markdown",
      "source": [
        "When did the lowest purchase happen?"
      ],
      "metadata": {
        "id": "X_y_b34eHD0F"
      }
    },
    {
      "cell_type": "code",
      "source": [
        "%%script sqlite3 --column --header chinook.db\n",
        "select min(invoicedate)\n",
        "from invoices\n",
        "limit 10"
      ],
      "metadata": {
        "colab": {
          "base_uri": "https://localhost:8080/"
        },
        "id": "vFxJUdNagGFR",
        "outputId": "72a3a4e7-bc6e-4255-b384-2645efcd141a"
      },
      "execution_count": null,
      "outputs": [
        {
          "output_type": "stream",
          "name": "stdout",
          "text": [
            "min(invoicedate)   \n",
            "-------------------\n",
            "2009-01-01 00:00:00\n"
          ]
        }
      ]
    },
    {
      "cell_type": "markdown",
      "source": [
        "Which, When and from where is the customer with the highest payment made?"
      ],
      "metadata": {
        "id": "DK1ICuVHG3M0"
      }
    },
    {
      "cell_type": "code",
      "source": [
        "%%script sqlite3 --column --header chinook.db\n",
        "\n",
        "SELECT\n",
        "\n",
        "[customers].[customerid],\n",
        "customers.FirstName,\n",
        "(customers.Lastname),\n",
        "(customers.country),\n",
        "max(invoices.total),\n",
        "invoices.invoicedate\n",
        "\n",
        "FROM customers\n",
        "\n",
        "join invoices\n",
        "\n",
        "on customers.customerid = invoices.customerid\n",
        "limit 10\n",
        "\n",
        "\n"
      ],
      "metadata": {
        "colab": {
          "base_uri": "https://localhost:8080/"
        },
        "id": "D-pEYeTAi3YK",
        "outputId": "93a97fd9-5193-42a5-f6ab-1f8e33a7a3f4"
      },
      "execution_count": null,
      "outputs": [
        {
          "output_type": "stream",
          "name": "stdout",
          "text": [
            "CustomerId  FirstName  LastName  Country         max(invoices.total)  InvoiceDate        \n",
            "----------  ---------  --------  --------------  -------------------  -------------------\n",
            "6           Helena     Holý      Czech Republic  25.86                2013-11-13 00:00:00\n"
          ]
        }
      ]
    },
    {
      "cell_type": "markdown",
      "source": [
        "How many invoices did we have the first 3 days of the month of January of 2009?"
      ],
      "metadata": {
        "id": "KU9LUwKeGttk"
      }
    },
    {
      "cell_type": "code",
      "source": [
        "%%script sqlite3 --column --header chinook.db\n",
        "\n",
        "SELECT *\n",
        "FROM invoices\n",
        "WHERE invoicedate BETWEEN '2009-01-01 00:00:00' AND '2009-01-03 00:00:00'\n",
        "limit 5"
      ],
      "metadata": {
        "colab": {
          "base_uri": "https://localhost:8080/"
        },
        "id": "RzC1CqVKifXE",
        "outputId": "40db81b6-cd79-4461-d5f1-f78904820b7e"
      },
      "execution_count": null,
      "outputs": [
        {
          "output_type": "stream",
          "name": "stdout",
          "text": [
            "InvoiceId  CustomerId  InvoiceDate          BillingAddress           BillingCity  BillingState  BillingCountry  BillingPostalCode  Total\n",
            "---------  ----------  -------------------  -----------------------  -----------  ------------  --------------  -----------------  -----\n",
            "1          2           2009-01-01 00:00:00  Theodor-Heuss-Straße 34  Stuttgart                  Germany         70174              1.98 \n",
            "2          4           2009-01-02 00:00:00  Ullevålsveien 14         Oslo                       Norway          0171               3.96 \n",
            "3          8           2009-01-03 00:00:00  Grétrystraat 63          Brussels                   Belgium         1000               5.94 \n"
          ]
        }
      ]
    },
    {
      "cell_type": "markdown",
      "source": [
        "How many invoices were generated the first month?"
      ],
      "metadata": {
        "id": "lGQg9xlT2FLO"
      }
    },
    {
      "cell_type": "code",
      "source": [
        "\n",
        "%%script sqlite3 --column --header chinook.db\n",
        "SELECT COUNT(*) AS invoice_count\n",
        "FROM invoices\n",
        "WHERE strftime('%Y-%m', invoicedate) = '2009-01';"
      ],
      "metadata": {
        "colab": {
          "base_uri": "https://localhost:8080/"
        },
        "id": "sH-mEhdSi3VS",
        "outputId": "b7b78172-46df-4391-deef-99834f89f90b"
      },
      "execution_count": null,
      "outputs": [
        {
          "output_type": "stream",
          "name": "stdout",
          "text": [
            "invoice_count\n",
            "-------------\n",
            "6            \n"
          ]
        }
      ]
    },
    {
      "cell_type": "markdown",
      "source": [
        "Display each employee with the person they report to"
      ],
      "metadata": {
        "id": "3iBWbxQMA6kf"
      }
    },
    {
      "cell_type": "code",
      "source": [
        "%%script sqlite3 --column --header chinook.db\n",
        "\n",
        "with\n",
        "emp as (\n",
        "  select EmployeeID, FirstName, Lastname, ReportsTo\n",
        "  from employees\n",
        ")\n",
        "\n",
        "select *\n",
        "from emp\n",
        "limit 10\n"
      ],
      "metadata": {
        "colab": {
          "base_uri": "https://localhost:8080/"
        },
        "id": "2AXDQMbMvaHg",
        "outputId": "18dead63-1480-489c-f851-62400fe33130"
      },
      "execution_count": null,
      "outputs": [
        {
          "output_type": "stream",
          "name": "stdout",
          "text": [
            "EmployeeID  FirstName  Lastname  ReportsTo\n",
            "----------  ---------  --------  ---------\n",
            "1           Andrew     Adams              \n",
            "2           Nancy      Edwards   1        \n",
            "3           Jane       Peacock   2        \n",
            "4           Margaret   Park      2        \n",
            "5           Steve      Johnson   2        \n",
            "6           Michael    Mitchell  1        \n",
            "7           Robert     King      6        \n",
            "8           Laura      Callahan  6        \n"
          ]
        }
      ]
    },
    {
      "cell_type": "markdown",
      "source": [
        "How many customers firstname start with the letter A?"
      ],
      "metadata": {
        "id": "LxMHPChOGexx"
      }
    },
    {
      "cell_type": "code",
      "source": [
        "%%script sqlite3 --column --header chinook.db\n",
        "\n",
        "SELECT FirstName AS name\n",
        "FROM customers\n",
        "WHERE name LIKE 'A%'\n",
        ";\n"
      ],
      "metadata": {
        "id": "sKXAePiv0rpS",
        "colab": {
          "base_uri": "https://localhost:8080/"
        },
        "outputId": "f49cb95a-34c7-43a4-8a22-37e010f22b13"
      },
      "execution_count": null,
      "outputs": [
        {
          "output_type": "stream",
          "name": "stdout",
          "text": [
            "name     \n",
            "---------\n",
            "Astrid   \n",
            "Alexandre\n",
            "Aaron    \n"
          ]
        }
      ]
    },
    {
      "cell_type": "markdown",
      "source": [
        "## Visualization"
      ],
      "metadata": {
        "id": "JyfyWZNoDrN3"
      }
    },
    {
      "cell_type": "code",
      "source": [
        "import sqlite3\n",
        "import pandas as pd\n",
        "import matplotlib.pyplot as plt\n",
        "\n",
        "conn = sqlite3.connect('chinook.db')\n",
        "cursor = conn.cursor()"
      ],
      "metadata": {
        "id": "sZtUIqk0GKRt"
      },
      "execution_count": null,
      "outputs": []
    },
    {
      "cell_type": "code",
      "source": [
        "query = \"\"\"\n",
        "SELECT\n",
        "\n",
        "[customers].[customerid],\n",
        "customers.FirstName,\n",
        "(customers.Lastname),\n",
        "(customers.country),\n",
        "(invoices.total),\n",
        "invoices.invoicedate\n",
        "\n",
        "FROM customers\n",
        "\n",
        "join invoices\n",
        "\n",
        "on customers.customerid = invoices.customerid\n",
        "Where invoices.total > 12\n",
        "limit 10\n",
        "\"\"\"\n",
        "cursor.execute(query)\n",
        "results = cursor.fetchall()\n",
        "df = pd.DataFrame(results, columns=[description[0] for description in cursor.description])\n",
        "df.plot.bar(x='Country', y='Total')\n",
        "plt.xlabel('Country')\n",
        "plt.ylabel('Value')\n",
        "plt.title('Price vs Country')\n",
        "plt.show()"
      ],
      "metadata": {
        "colab": {
          "base_uri": "https://localhost:8080/",
          "height": 563
        },
        "id": "FX2Jb2YXD6OG",
        "outputId": "b841b66e-b7a9-4183-9243-6241dd3ea747"
      },
      "execution_count": null,
      "outputs": [
        {
          "output_type": "display_data",
          "data": {
            "text/plain": [
              "<Figure size 640x480 with 1 Axes>"
            ],
            "image/png": "[encoded data removed]"
          },
          "metadata": {}
        }
      ]
    },
    {
      "cell_type": "code",
      "source": [
        "query = \"\"\"\n",
        "\n",
        "SELECT (tracks.milliseconds),(tracks.name) as names\n",
        "FROM playlists\n",
        "JOIN playlist_track\n",
        "ON playlists.playlistid = playlist_track.playlistid\n",
        "JOIN tracks\n",
        "ON playlist_track.trackid = tracks.trackid\n",
        "\n",
        "limit 5\n",
        "\n",
        "\"\"\"\n",
        "cursor.execute(query)\n",
        "results = cursor.fetchall()\n",
        "df1 = pd.DataFrame(results, columns=[description[0] for description in cursor.description])\n",
        "df1.plot(x='names', y='Milliseconds')\n",
        "plt.xlabel('Song Name')\n",
        "plt.ylabel('Milliseconds')\n",
        "plt.title('Time vs Song')\n",
        "plt.show()"
      ],
      "metadata": {
        "colab": {
          "base_uri": "https://localhost:8080/",
          "height": 472
        },
        "id": "axp6HdGNFT21",
        "outputId": "2d404cc6-7cb8-4eb4-c9d4-fed4db6d5924"
      },
      "execution_count": null,
      "outputs": [
        {
          "output_type": "display_data",
          "data": {
            "text/plain": [
              "<Figure size 640x480 with 1 Axes>"
            ],
            "image/png": "[encoded data removed]"
          },
          "metadata": {}
        }
      ]
    },
    {
      "cell_type": "code",
      "source": [
        "df1"
      ],
      "metadata": {
        "colab": {
          "base_uri": "https://localhost:8080/",
          "height": 206
        },
        "id": "h2YSXmCBHU9i",
        "outputId": "7232045e-a575-4e4c-d515-67e596f1fd90"
      },
      "execution_count": null,
      "outputs": [
        {
          "output_type": "execute_result",
          "data": {
            "text/plain": [
              "   Milliseconds                                    names\n",
              "0        343719  For Those About To Rock (We Salute You)\n",
              "1        343719  For Those About To Rock (We Salute You)\n",
              "2        343719  For Those About To Rock (We Salute You)\n",
              "3        342562                        Balls to the Wall\n",
              "4        342562                        Balls to the Wall"
            ],
            "text/html": [
              "\n",
              "  <div id=\"df-49a8dcc8-1034-460d-acc7-771475a4960f\" class=\"colab-df-container\">\n",
              "    <div>\n",
              "<style scoped>\n",
              "    .dataframe tbody tr th:only-of-type {\n",
              "        vertical-align: middle;\n",
              "    }\n",
              "\n",
              "    .dataframe tbody tr th {\n",
              "        vertical-align: top;\n",
              "    }\n",
              "\n",
              "    .dataframe thead th {\n",
              "        text-align: right;\n",
              "    }\n",
              "</style>\n",
              "<table border=\"1\" class=\"dataframe\">\n",
              "  <thead>\n",
              "    <tr style=\"text-align: right;\">\n",
              "      <th></th>\n",
              "      <th>Milliseconds</th>\n",
              "      <th>names</th>\n",
              "    </tr>\n",
              "  </thead>\n",
              "  <tbody>\n",
              "    <tr>\n",
              "      <th>0</th>\n",
              "      <td>343719</td>\n",
              "      <td>For Those About To Rock (We Salute You)</td>\n",
              "    </tr>\n",
              "    <tr>\n",
              "      <th>1</th>\n",
              "      <td>343719</td>\n",
              "      <td>For Those About To Rock (We Salute You)</td>\n",
              "    </tr>\n",
              "    <tr>\n",
              "      <th>2</th>\n",
              "      <td>343719</td>\n",
              "      <td>For Those About To Rock (We Salute You)</td>\n",
              "    </tr>\n",
              "    <tr>\n",
              "      <th>3</th>\n",
              "      <td>342562</td>\n",
              "      <td>Balls to the Wall</td>\n",
              "    </tr>\n",
              "    <tr>\n",
              "      <th>4</th>\n",
              "      <td>342562</td>\n",
              "      <td>Balls to the Wall</td>\n",
              "    </tr>\n",
              "  </tbody>\n",
              "</table>\n",
              "</div>\n",
              "    <div class=\"colab-df-buttons\">\n",
              "\n",
              "  <div class=\"colab-df-container\">\n",
              "    <button class=\"colab-df-convert\" onclick=\"convertToInteractive('df-49a8dcc8-1034-460d-acc7-771475a4960f')\"\n",
              "            title=\"Convert this dataframe to an interactive table.\"\n",
              "            style=\"display:none;\">\n",
              "\n",
              "  <svg xmlns=\"http://www.w3.org/2000/svg\" height=\"24px\" viewBox=\"0 -960 960 960\">\n",
              "    <path d=\"M120-120v-720h720v720H120Zm60-500h600v-160H180v160Zm220 220h160v-160H400v160Zm0 220h160v-160H400v160ZM180-400h160v-160H180v160Zm440 0h160v-160H620v160ZM180-180h160v-160H180v160Zm440 0h160v-160H620v160Z\"/>\n",
              "  </svg>\n",
              "    </button>\n",
              "\n",
              "  <style>\n",
              "    .colab-df-container {\n",
              "      display:flex;\n",
              "      gap: 12px;\n",
              "    }\n",
              "\n",
              "    .colab-df-convert {\n",
              "      background-color: #E8F0FE;\n",
              "      border: none;\n",
              "      border-radius: 50%;\n",
              "      cursor: pointer;\n",
              "      display: none;\n",
              "      fill: #1967D2;\n",
              "      height: 32px;\n",
              "      padding: 0 0 0 0;\n",
              "      width: 32px;\n",
              "    }\n",
              "\n",
              "    .colab-df-convert:hover {\n",
              "      background-color: #E2EBFA;\n",
              "      box-shadow: 0px 1px 2px rgba(60, 64, 67, 0.3), 0px 1px 3px 1px rgba(60, 64, 67, 0.15);\n",
              "      fill: #174EA6;\n",
              "    }\n",
              "\n",
              "    .colab-df-buttons div {\n",
              "      margin-bottom: 4px;\n",
              "    }\n",
              "\n",
              "    [theme=dark] .colab-df-convert {\n",
              "      background-color: #3B4455;\n",
              "      fill: #D2E3FC;\n",
              "    }\n",
              "\n",
              "    [theme=dark] .colab-df-convert:hover {\n",
              "      background-color: #434B5C;\n",
              "      box-shadow: 0px 1px 3px 1px rgba(0, 0, 0, 0.15);\n",
              "      filter: drop-shadow(0px 1px 2px rgba(0, 0, 0, 0.3));\n",
              "      fill: #FFFFFF;\n",
              "    }\n",
              "  </style>\n",
              "\n",
              "    <script>\n",
              "      const buttonEl =\n",
              "        document.querySelector('#df-49a8dcc8-1034-460d-acc7-771475a4960f button.colab-df-convert');\n",
              "      buttonEl.style.display =\n",
              "        google.colab.kernel.accessAllowed ? 'block' : 'none';\n",
              "\n",
              "      async function convertToInteractive(key) {\n",
              "        const element = document.querySelector('#df-49a8dcc8-1034-460d-acc7-771475a4960f');\n",
              "        const dataTable =\n",
              "          await google.colab.kernel.invokeFunction('convertToInteractive',\n",
              "                                                    [key], {});\n",
              "        if (!dataTable) return;\n",
              "\n",
              "        const docLinkHtml = 'Like what you see? Visit the ' +\n",
              "          '<a target=\"_blank\" href=https://colab.research.google.com/notebooks/data_table.ipynb>data table notebook</a>'\n",
              "          + ' to learn more about interactive tables.';\n",
              "        element.innerHTML = '';\n",
              "        dataTable['output_type'] = 'display_data';\n",
              "        await google.colab.output.renderOutput(dataTable, element);\n",
              "        const docLink = document.createElement('div');\n",
              "        docLink.innerHTML = docLinkHtml;\n",
              "        element.appendChild(docLink);\n",
              "      }\n",
              "    </script>\n",
              "  </div>\n",
              "\n",
              "\n",
              "<div id=\"df-b32962fa-b7e9-430d-af28-fa52675468e4\">\n",
              "  <button class=\"colab-df-quickchart\" onclick=\"quickchart('df-b32962fa-b7e9-430d-af28-fa52675468e4')\"\n",
              "            title=\"Suggest charts\"\n",
              "            style=\"display:none;\">\n",
              "\n",
              "<svg xmlns=\"http://www.w3.org/2000/svg\" height=\"24px\"viewBox=\"0 0 24 24\"\n",
              "     width=\"24px\">\n",
              "    <g>\n",
              "        <path d=\"M19 3H5c-1.1 0-2 .9-2 2v14c0 1.1.9 2 2 2h14c1.1 0 2-.9 2-2V5c0-1.1-.9-2-2-2zM9 17H7v-7h2v7zm4 0h-2V7h2v10zm4 0h-2v-4h2v4z\"/>\n",
              "    </g>\n",
              "</svg>\n",
              "  </button>\n",
              "\n",
              "<style>\n",
              "  .colab-df-quickchart {\n",
              "      --bg-color: #E8F0FE;\n",
              "      --fill-color: #1967D2;\n",
              "      --hover-bg-color: #E2EBFA;\n",
              "      --hover-fill-color: #174EA6;\n",
              "      --disabled-fill-color: #AAA;\n",
              "      --disabled-bg-color: #DDD;\n",
              "  }\n",
              "\n",
              "  [theme=dark] .colab-df-quickchart {\n",
              "      --bg-color: #3B4455;\n",
              "      --fill-color: #D2E3FC;\n",
              "      --hover-bg-color: #434B5C;\n",
              "      --hover-fill-color: #FFFFFF;\n",
              "      --disabled-bg-color: #3B4455;\n",
              "      --disabled-fill-color: #666;\n",
              "  }\n",
              "\n",
              "  .colab-df-quickchart {\n",
              "    background-color: var(--bg-color);\n",
              "    border: none;\n",
              "    border-radius: 50%;\n",
              "    cursor: pointer;\n",
              "    display: none;\n",
              "    fill: var(--fill-color);\n",
              "    height: 32px;\n",
              "    padding: 0;\n",
              "    width: 32px;\n",
              "  }\n",
              "\n",
              "  .colab-df-quickchart:hover {\n",
              "    background-color: var(--hover-bg-color);\n",
              "    box-shadow: 0 1px 2px rgba(60, 64, 67, 0.3), 0 1px 3px 1px rgba(60, 64, 67, 0.15);\n",
              "    fill: var(--button-hover-fill-color);\n",
              "  }\n",
              "\n",
              "  .colab-df-quickchart-complete:disabled,\n",
              "  .colab-df-quickchart-complete:disabled:hover {\n",
              "    background-color: var(--disabled-bg-color);\n",
              "    fill: var(--disabled-fill-color);\n",
              "    box-shadow: none;\n",
              "  }\n",
              "\n",
              "  .colab-df-spinner {\n",
              "    border: 2px solid var(--fill-color);\n",
              "    border-color: transparent;\n",
              "    border-bottom-color: var(--fill-color);\n",
              "    animation:\n",
              "      spin 1s steps(1) infinite;\n",
              "  }\n",
              "\n",
              "  @keyframes spin {\n",
              "    0% {\n",
              "      border-color: transparent;\n",
              "      border-bottom-color: var(--fill-color);\n",
              "      border-left-color: var(--fill-color);\n",
              "    }\n",
              "    20% {\n",
              "      border-color: transparent;\n",
              "      border-left-color: var(--fill-color);\n",
              "      border-top-color: var(--fill-color);\n",
              "    }\n",
              "    30% {\n",
              "      border-color: transparent;\n",
              "      border-left-color: var(--fill-color);\n",
              "      border-top-color: var(--fill-color);\n",
              "      border-right-color: var(--fill-color);\n",
              "    }\n",
              "    40% {\n",
              "      border-color: transparent;\n",
              "      border-right-color: var(--fill-color);\n",
              "      border-top-color: var(--fill-color);\n",
              "    }\n",
              "    60% {\n",
              "      border-color: transparent;\n",
              "      border-right-color: var(--fill-color);\n",
              "    }\n",
              "    80% {\n",
              "      border-color: transparent;\n",
              "      border-right-color: var(--fill-color);\n",
              "      border-bottom-color: var(--fill-color);\n",
              "    }\n",
              "    90% {\n",
              "      border-color: transparent;\n",
              "      border-bottom-color: var(--fill-color);\n",
              "    }\n",
              "  }\n",
              "</style>\n",
              "\n",
              "  <script>\n",
              "    async function quickchart(key) {\n",
              "      const quickchartButtonEl =\n",
              "        document.querySelector('#' + key + ' button');\n",
              "      quickchartButtonEl.disabled = true;  // To prevent multiple clicks.\n",
              "      quickchartButtonEl.classList.add('colab-df-spinner');\n",
              "      try {\n",
              "        const charts = await google.colab.kernel.invokeFunction(\n",
              "            'suggestCharts', [key], {});\n",
              "      } catch (error) {\n",
              "        console.error('Error during call to suggestCharts:', error);\n",
              "      }\n",
              "      quickchartButtonEl.classList.remove('colab-df-spinner');\n",
              "      quickchartButtonEl.classList.add('colab-df-quickchart-complete');\n",
              "    }\n",
              "    (() => {\n",
              "      let quickchartButtonEl =\n",
              "        document.querySelector('#df-b32962fa-b7e9-430d-af28-fa52675468e4 button');\n",
              "      quickchartButtonEl.style.display =\n",
              "        google.colab.kernel.accessAllowed ? 'block' : 'none';\n",
              "    })();\n",
              "  </script>\n",
              "</div>\n",
              "\n",
              "  <div id=\"id_3f479279-1161-4ca5-930d-7166e0f41650\">\n",
              "    <style>\n",
              "      .colab-df-generate {\n",
              "        background-color: #E8F0FE;\n",
              "        border: none;\n",
              "        border-radius: 50%;\n",
              "        cursor: pointer;\n",
              "        display: none;\n",
              "        fill: #1967D2;\n",
              "        height: 32px;\n",
              "        padding: 0 0 0 0;\n",
              "        width: 32px;\n",
              "      }\n",
              "\n",
              "      .colab-df-generate:hover {\n",
              "        background-color: #E2EBFA;\n",
              "        box-shadow: 0px 1px 2px rgba(60, 64, 67, 0.3), 0px 1px 3px 1px rgba(60, 64, 67, 0.15);\n",
              "        fill: #174EA6;\n",
              "      }\n",
              "\n",
              "      [theme=dark] .colab-df-generate {\n",
              "        background-color: #3B4455;\n",
              "        fill: #D2E3FC;\n",
              "      }\n",
              "\n",
              "      [theme=dark] .colab-df-generate:hover {\n",
              "        background-color: #434B5C;\n",
              "        box-shadow: 0px 1px 3px 1px rgba(0, 0, 0, 0.15);\n",
              "        filter: drop-shadow(0px 1px 2px rgba(0, 0, 0, 0.3));\n",
              "        fill: #FFFFFF;\n",
              "      }\n",
              "    </style>\n",
              "    <button class=\"colab-df-generate\" onclick=\"generateWithVariable('df1')\"\n",
              "            title=\"Generate code using this dataframe.\"\n",
              "            style=\"display:none;\">\n",
              "\n",
              "  <svg xmlns=\"http://www.w3.org/2000/svg\" height=\"24px\"viewBox=\"0 0 24 24\"\n",
              "       width=\"24px\">\n",
              "    <path d=\"M7,19H8.4L18.45,9,17,7.55,7,17.6ZM5,21V16.75L18.45,3.32a2,2,0,0,1,2.83,0l1.4,1.43a1.91,1.91,0,0,1,.58,1.4,1.91,1.91,0,0,1-.58,1.4L9.25,21ZM18.45,9,17,7.55Zm-12,3A5.31,5.31,0,0,0,4.9,8.1,5.31,5.31,0,0,0,1,6.5,5.31,5.31,0,0,0,4.9,4.9,5.31,5.31,0,0,0,6.5,1,5.31,5.31,0,0,0,8.1,4.9,5.31,5.31,0,0,0,12,6.5,5.46,5.46,0,0,0,6.5,12Z\"/>\n",
              "  </svg>\n",
              "    </button>\n",
              "    <script>\n",
              "      (() => {\n",
              "      const buttonEl =\n",
              "        document.querySelector('#id_3f479279-1161-4ca5-930d-7166e0f41650 button.colab-df-generate');\n",
              "      buttonEl.style.display =\n",
              "        google.colab.kernel.accessAllowed ? 'block' : 'none';\n",
              "\n",
              "      buttonEl.onclick = () => {\n",
              "        google.colab.notebook.generateWithVariable('df1');\n",
              "      }\n",
              "      })();\n",
              "    </script>\n",
              "  </div>\n",
              "\n",
              "    </div>\n",
              "  </div>\n"
            ],
            "application/vnd.google.colaboratory.intrinsic+json": {
              "type": "dataframe",
              "variable_name": "df1",
              "summary": "{\n  \"name\": \"df1\",\n  \"rows\": 5,\n  \"fields\": [\n    {\n      \"column\": \"Milliseconds\",\n      \"properties\": {\n        \"dtype\": \"number\",\n        \"std\": 633,\n        \"min\": 342562,\n        \"max\": 343719,\n        \"num_unique_values\": 2,\n        \"samples\": [\n          342562,\n          343719\n        ],\n        \"semantic_type\": \"\",\n        \"description\": \"\"\n      }\n    },\n    {\n      \"column\": \"names\",\n      \"properties\": {\n        \"dtype\": \"category\",\n        \"num_unique_values\": 2,\n        \"samples\": [\n          \"Balls to the Wall\",\n          \"For Those About To Rock (We Salute You)\"\n        ],\n        \"semantic_type\": \"\",\n        \"description\": \"\"\n      }\n    }\n  ]\n}"
            }
          },
          "metadata": {},
          "execution_count": 81
        }
      ]
    },
    {
      "cell_type": "code",
      "source": [],
      "metadata": {
        "id": "hAjLW5q4HWNM"
      },
      "execution_count": null,
      "outputs": []
    }
  ]
}