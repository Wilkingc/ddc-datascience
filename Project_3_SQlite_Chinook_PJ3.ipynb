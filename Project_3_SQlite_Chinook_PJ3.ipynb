{
  "nbformat": 4,
  "nbformat_minor": 0,
  "metadata": {
    "colab": {
      "provenance": [],
      "authorship_tag": "ABX9TyM4+PBUObCIsvtLkI+9TA/w",
      "include_colab_link": true
    },
    "kernelspec": {
      "name": "python3",
      "display_name": "Python 3"
    },
    "language_info": {
      "name": "python"
    }
  },
  "cells": [
    {
      "cell_type": "markdown",
      "metadata": {
        "id": "view-in-github",
        "colab_type": "text"
      },
      "source": [
        "<a href=\"https://colab.research.google.com/github/Wilkingc/ddc-datascience/blob/main/Project_3_SQlite_Chinook_PJ3.ipynb\" target=\"_parent\"><img src=\"https://colab.research.google.com/assets/colab-badge.svg\" alt=\"Open In Colab\"/></a>"
      ]
    },
    {
      "cell_type": "markdown",
      "source": [
        "# Project 3A\n"
      ],
      "metadata": {
        "id": "bK-R_cG7uUTQ"
      }
    },
    {
      "cell_type": "markdown",
      "source": [
        "## Project Description\n"
      ],
      "metadata": {
        "id": "t0AREciEuaFk"
      }
    },
    {
      "cell_type": "markdown",
      "source": [
        "## Setting up enviroment and loading the data"
      ],
      "metadata": {
        "id": "bAj3YRyYud8x"
      }
    },
    {
      "cell_type": "markdown",
      "source": [
        "### Imports\n"
      ],
      "metadata": {
        "id": "ZNyAaQ7TumSV"
      }
    },
    {
      "cell_type": "markdown",
      "source": [
        "Let's import Bash and SQlite3"
      ],
      "metadata": {
        "id": "1iR7oXYX2c6K"
      }
    },
    {
      "cell_type": "code",
      "execution_count": 52,
      "metadata": {
        "id": "k8jOi_e2t9mD"
      },
      "outputs": [],
      "source": [
        "%%capture\n",
        "%%bash\n",
        "apt-get update\n",
        "apt-get install -y sqlite3"
      ]
    },
    {
      "cell_type": "code",
      "source": [
        "%%bash\n",
        "[ -f chinook.zip ] ||\n",
        "  curl -s -O https://www.sqlitetutorial.net/wp-content/uploads/2018/03/chinook.zip\n",
        "unzip -l chinook.zip"
      ],
      "metadata": {
        "colab": {
          "base_uri": "https://localhost:8080/"
        },
        "id": "BnCvAIxnupQe",
        "outputId": "9a8e7386-f889-4498-c87e-ee2592cf8d79"
      },
      "execution_count": 53,
      "outputs": [
        {
          "output_type": "stream",
          "name": "stdout",
          "text": [
            "Archive:  chinook.zip\n",
            "  Length      Date    Time    Name\n",
            "---------  ---------- -----   ----\n",
            "   884736  2015-11-29 10:53   chinook.db\n",
            "---------                     -------\n",
            "   884736                     1 file\n"
          ]
        }
      ]
    },
    {
      "cell_type": "markdown",
      "source": [
        "Here we unzip the dataset"
      ],
      "metadata": {
        "id": "s573vnSP2lm8"
      }
    },
    {
      "cell_type": "code",
      "source": [
        "!unzip -u chinook.zip"
      ],
      "metadata": {
        "colab": {
          "base_uri": "https://localhost:8080/"
        },
        "id": "dZihz_tsus98",
        "outputId": "1255668b-3234-4154-d516-7e3a0064cf14"
      },
      "execution_count": 54,
      "outputs": [
        {
          "output_type": "stream",
          "name": "stdout",
          "text": [
            "Archive:  chinook.zip\n"
          ]
        }
      ]
    },
    {
      "cell_type": "markdown",
      "source": [
        "Let's use the comand line to make sure Chinook is in our directory"
      ],
      "metadata": {
        "id": "4BRgVmzH2qwP"
      }
    },
    {
      "cell_type": "code",
      "source": [
        "!ls -l"
      ],
      "metadata": {
        "colab": {
          "base_uri": "https://localhost:8080/"
        },
        "id": "n05y6A2UuxVR",
        "outputId": "a4f666d5-62fc-4ece-c238-1d93ac9183d2"
      },
      "execution_count": 55,
      "outputs": [
        {
          "output_type": "stream",
          "name": "stdout",
          "text": [
            "total 1168\n",
            "-rw-r--r-- 1 root root 884736 Nov 29  2015 chinook.db\n",
            "-rw-r--r-- 1 root root 305596 Oct 28 21:22 chinook.zip\n",
            "-rw-r--r-- 1 root root      0 Oct 28 21:44 people.sql3\n",
            "drwxr-xr-x 1 root root   4096 Oct 25 13:20 sample_data\n"
          ]
        }
      ]
    },
    {
      "cell_type": "markdown",
      "source": [
        "### Dataset characteristics"
      ],
      "metadata": {
        "id": "flzI82AL4Xg3"
      }
    },
    {
      "cell_type": "code",
      "source": [
        "%%script sqlite3 --column --header chinook.db\n",
        ".tables\n"
      ],
      "metadata": {
        "colab": {
          "base_uri": "https://localhost:8080/"
        },
        "id": "jTDtE-0Ru4K9",
        "outputId": "ad6bcb88-d980-4dd7-bb42-47107ae6e417"
      },
      "execution_count": 56,
      "outputs": [
        {
          "output_type": "stream",
          "name": "stdout",
          "text": [
            "albums          employees       invoices        playlists     \n",
            "artists         genres          media_types     tracks        \n",
            "customers       invoice_items   playlist_track\n"
          ]
        }
      ]
    },
    {
      "cell_type": "code",
      "source": [
        "# Show the schema for the entire database\n",
        "%%script sqlite3 --column --header chinook.db\n",
        ".schema"
      ],
      "metadata": {
        "colab": {
          "base_uri": "https://localhost:8080/"
        },
        "collapsed": true,
        "id": "xSBRvdMeu-cV",
        "outputId": "95223a7a-22cd-42fc-9d9b-fa8338656f99"
      },
      "execution_count": 57,
      "outputs": [
        {
          "output_type": "stream",
          "name": "stdout",
          "text": [
            "CREATE TABLE IF NOT EXISTS \"albums\"\r\n",
            "(\r\n",
            "    [AlbumId] INTEGER PRIMARY KEY AUTOINCREMENT NOT NULL,\r\n",
            "    [Title] NVARCHAR(160)  NOT NULL,\r\n",
            "    [ArtistId] INTEGER  NOT NULL,\r\n",
            "    FOREIGN KEY ([ArtistId]) REFERENCES \"artists\" ([ArtistId]) \r\n",
            "\t\tON DELETE NO ACTION ON UPDATE NO ACTION\r\n",
            ");\n",
            "CREATE TABLE sqlite_sequence(name,seq);\n",
            "CREATE TABLE IF NOT EXISTS \"artists\"\r\n",
            "(\r\n",
            "    [ArtistId] INTEGER PRIMARY KEY AUTOINCREMENT NOT NULL,\r\n",
            "    [Name] NVARCHAR(120)\r\n",
            ");\n",
            "CREATE TABLE IF NOT EXISTS \"customers\"\r\n",
            "(\r\n",
            "    [CustomerId] INTEGER PRIMARY KEY AUTOINCREMENT NOT NULL,\r\n",
            "    [FirstName] NVARCHAR(40)  NOT NULL,\r\n",
            "    [LastName] NVARCHAR(20)  NOT NULL,\r\n",
            "    [Company] NVARCHAR(80),\r\n",
            "    [Address] NVARCHAR(70),\r\n",
            "    [City] NVARCHAR(40),\r\n",
            "    [State] NVARCHAR(40),\r\n",
            "    [Country] NVARCHAR(40),\r\n",
            "    [PostalCode] NVARCHAR(10),\r\n",
            "    [Phone] NVARCHAR(24),\r\n",
            "    [Fax] NVARCHAR(24),\r\n",
            "    [Email] NVARCHAR(60)  NOT NULL,\r\n",
            "    [SupportRepId] INTEGER,\r\n",
            "    FOREIGN KEY ([SupportRepId]) REFERENCES \"employees\" ([EmployeeId]) \r\n",
            "\t\tON DELETE NO ACTION ON UPDATE NO ACTION\r\n",
            ");\n",
            "CREATE TABLE IF NOT EXISTS \"employees\"\r\n",
            "(\r\n",
            "    [EmployeeId] INTEGER PRIMARY KEY AUTOINCREMENT NOT NULL,\r\n",
            "    [LastName] NVARCHAR(20)  NOT NULL,\r\n",
            "    [FirstName] NVARCHAR(20)  NOT NULL,\r\n",
            "    [Title] NVARCHAR(30),\r\n",
            "    [ReportsTo] INTEGER,\r\n",
            "    [BirthDate] DATETIME,\r\n",
            "    [HireDate] DATETIME,\r\n",
            "    [Address] NVARCHAR(70),\r\n",
            "    [City] NVARCHAR(40),\r\n",
            "    [State] NVARCHAR(40),\r\n",
            "    [Country] NVARCHAR(40),\r\n",
            "    [PostalCode] NVARCHAR(10),\r\n",
            "    [Phone] NVARCHAR(24),\r\n",
            "    [Fax] NVARCHAR(24),\r\n",
            "    [Email] NVARCHAR(60),\r\n",
            "    FOREIGN KEY ([ReportsTo]) REFERENCES \"employees\" ([EmployeeId]) \r\n",
            "\t\tON DELETE NO ACTION ON UPDATE NO ACTION\r\n",
            ");\n",
            "CREATE TABLE IF NOT EXISTS \"genres\"\r\n",
            "(\r\n",
            "    [GenreId] INTEGER PRIMARY KEY AUTOINCREMENT NOT NULL,\r\n",
            "    [Name] NVARCHAR(120)\r\n",
            ");\n",
            "CREATE TABLE IF NOT EXISTS \"invoices\"\r\n",
            "(\r\n",
            "    [InvoiceId] INTEGER PRIMARY KEY AUTOINCREMENT NOT NULL,\r\n",
            "    [CustomerId] INTEGER  NOT NULL,\r\n",
            "    [InvoiceDate] DATETIME  NOT NULL,\r\n",
            "    [BillingAddress] NVARCHAR(70),\r\n",
            "    [BillingCity] NVARCHAR(40),\r\n",
            "    [BillingState] NVARCHAR(40),\r\n",
            "    [BillingCountry] NVARCHAR(40),\r\n",
            "    [BillingPostalCode] NVARCHAR(10),\r\n",
            "    [Total] NUMERIC(10,2)  NOT NULL,\r\n",
            "    FOREIGN KEY ([CustomerId]) REFERENCES \"customers\" ([CustomerId]) \r\n",
            "\t\tON DELETE NO ACTION ON UPDATE NO ACTION\r\n",
            ");\n",
            "CREATE TABLE IF NOT EXISTS \"invoice_items\"\r\n",
            "(\r\n",
            "    [InvoiceLineId] INTEGER PRIMARY KEY AUTOINCREMENT NOT NULL,\r\n",
            "    [InvoiceId] INTEGER  NOT NULL,\r\n",
            "    [TrackId] INTEGER  NOT NULL,\r\n",
            "    [UnitPrice] NUMERIC(10,2)  NOT NULL,\r\n",
            "    [Quantity] INTEGER  NOT NULL,\r\n",
            "    FOREIGN KEY ([InvoiceId]) REFERENCES \"invoices\" ([InvoiceId]) \r\n",
            "\t\tON DELETE NO ACTION ON UPDATE NO ACTION,\r\n",
            "    FOREIGN KEY ([TrackId]) REFERENCES \"tracks\" ([TrackId]) \r\n",
            "\t\tON DELETE NO ACTION ON UPDATE NO ACTION\r\n",
            ");\n",
            "CREATE TABLE IF NOT EXISTS \"media_types\"\r\n",
            "(\r\n",
            "    [MediaTypeId] INTEGER PRIMARY KEY AUTOINCREMENT NOT NULL,\r\n",
            "    [Name] NVARCHAR(120)\r\n",
            ");\n",
            "CREATE TABLE IF NOT EXISTS \"playlists\"\r\n",
            "(\r\n",
            "    [PlaylistId] INTEGER PRIMARY KEY AUTOINCREMENT NOT NULL,\r\n",
            "    [Name] NVARCHAR(120)\r\n",
            ");\n",
            "CREATE TABLE IF NOT EXISTS \"playlist_track\"\r\n",
            "(\r\n",
            "    [PlaylistId] INTEGER  NOT NULL,\r\n",
            "    [TrackId] INTEGER  NOT NULL,\r\n",
            "    CONSTRAINT [PK_PlaylistTrack] PRIMARY KEY  ([PlaylistId], [TrackId]),\r\n",
            "    FOREIGN KEY ([PlaylistId]) REFERENCES \"playlists\" ([PlaylistId]) \r\n",
            "\t\tON DELETE NO ACTION ON UPDATE NO ACTION,\r\n",
            "    FOREIGN KEY ([TrackId]) REFERENCES \"tracks\" ([TrackId]) \r\n",
            "\t\tON DELETE NO ACTION ON UPDATE NO ACTION\r\n",
            ");\n",
            "CREATE TABLE IF NOT EXISTS \"tracks\"\r\n",
            "(\r\n",
            "    [TrackId] INTEGER PRIMARY KEY AUTOINCREMENT NOT NULL,\r\n",
            "    [Name] NVARCHAR(200)  NOT NULL,\r\n",
            "    [AlbumId] INTEGER,\r\n",
            "    [MediaTypeId] INTEGER  NOT NULL,\r\n",
            "    [GenreId] INTEGER,\r\n",
            "    [Composer] NVARCHAR(220),\r\n",
            "    [Milliseconds] INTEGER  NOT NULL,\r\n",
            "    [Bytes] INTEGER,\r\n",
            "    [UnitPrice] NUMERIC(10,2)  NOT NULL,\r\n",
            "    FOREIGN KEY ([AlbumId]) REFERENCES \"albums\" ([AlbumId]) \r\n",
            "\t\tON DELETE NO ACTION ON UPDATE NO ACTION,\r\n",
            "    FOREIGN KEY ([GenreId]) REFERENCES \"genres\" ([GenreId]) \r\n",
            "\t\tON DELETE NO ACTION ON UPDATE NO ACTION,\r\n",
            "    FOREIGN KEY ([MediaTypeId]) REFERENCES \"media_types\" ([MediaTypeId]) \r\n",
            "\t\tON DELETE NO ACTION ON UPDATE NO ACTION\r\n",
            ");\n",
            "CREATE INDEX [IFK_AlbumArtistId] ON \"albums\" ([ArtistId]);\n",
            "CREATE INDEX [IFK_CustomerSupportRepId] ON \"customers\" ([SupportRepId]);\n",
            "CREATE INDEX [IFK_EmployeeReportsTo] ON \"employees\" ([ReportsTo]);\n",
            "CREATE INDEX [IFK_InvoiceCustomerId] ON \"invoices\" ([CustomerId]);\n",
            "CREATE INDEX [IFK_InvoiceLineInvoiceId] ON \"invoice_items\" ([InvoiceId]);\n",
            "CREATE INDEX [IFK_InvoiceLineTrackId] ON \"invoice_items\" ([TrackId]);\n",
            "CREATE INDEX [IFK_PlaylistTrackTrackId] ON \"playlist_track\" ([TrackId]);\n",
            "CREATE INDEX [IFK_TrackAlbumId] ON \"tracks\" ([AlbumId]);\n",
            "CREATE INDEX [IFK_TrackGenreId] ON \"tracks\" ([GenreId]);\n",
            "CREATE INDEX [IFK_TrackMediaTypeId] ON \"tracks\" ([MediaTypeId]);\n",
            "CREATE TABLE sqlite_stat1(tbl,idx,stat);\n"
          ]
        }
      ]
    },
    {
      "cell_type": "markdown",
      "source": [
        "How many tables do we have and how many rows are in each one of them?"
      ],
      "metadata": {
        "id": "MYgbjNStH_oq"
      }
    },
    {
      "cell_type": "code",
      "source": [
        "%%script sqlite3 --column --header chinook.db\n",
        "\n",
        "SELECT 'albums' AS table_name, COUNT(*) AS row_count FROM albums\n",
        "UNION ALL\n",
        "SELECT 'artists' AS table_name, COUNT(*) AS row_count FROM artists\n",
        "UNION ALL\n",
        "SELECT 'customers' AS table_name, COUNT(*) AS row_count FROM customers\n",
        "UNION ALL\n",
        "SELECT 'employees' AS table_name, COUNT(*) AS row_count FROM employees\n",
        "UNION ALL\n",
        "SELECT 'genres' AS table_name, COUNT(*) AS row_count FROM genres\n",
        "UNION ALL\n",
        "SELECT 'invoice_items' AS table_name, COUNT(*) AS row_count FROM invoice_items\n",
        "UNION ALL\n",
        "SELECT 'invoices' AS table_name, COUNT(*) AS row_count FROM invoices\n",
        "UNION ALL\n",
        "SELECT 'media_types' AS table_name, COUNT(*) AS row_count FROM media_types\n",
        "UNION ALL\n",
        "SELECT 'playlist_track' AS table_name, COUNT(*) AS row_count FROM playlist_track\n",
        "UNION ALL\n",
        "SELECT 'playlists' AS table_name, COUNT(*) AS row_count FROM playlists\n",
        "UNION ALL\n",
        "SELECT 'tracks' AS table_name, COUNT(*) AS row_count FROM tracks;"
      ],
      "metadata": {
        "colab": {
          "base_uri": "https://localhost:8080/"
        },
        "id": "PsuBWncEi3m-",
        "outputId": "e2bd3e04-0ef3-4a0c-fdb0-b489bf8aa359"
      },
      "execution_count": 58,
      "outputs": [
        {
          "output_type": "stream",
          "name": "stdout",
          "text": [
            "table_name      row_count\n",
            "--------------  ---------\n",
            "albums          347      \n",
            "artists         275      \n",
            "customers       59       \n",
            "employees       8        \n",
            "genres          25       \n",
            "invoice_items   2240     \n",
            "invoices        412      \n",
            "media_types     5        \n",
            "playlist_track  8715     \n",
            "playlists       18       \n",
            "tracks          3503     \n"
          ]
        }
      ]
    },
    {
      "cell_type": "markdown",
      "source": [
        "Query the info of artists table"
      ],
      "metadata": {
        "id": "hWjYjDz0IFL-"
      }
    },
    {
      "cell_type": "code",
      "source": [
        "%%script sqlite3 --column --header chinook.db\n",
        "\n",
        "PRAGMA table_info(artists);"
      ],
      "metadata": {
        "colab": {
          "base_uri": "https://localhost:8080/"
        },
        "id": "uZwfQa7Qf4-x",
        "outputId": "ad731062-42d1-4bdf-ab52-e50dc3e1450f"
      },
      "execution_count": 59,
      "outputs": [
        {
          "output_type": "stream",
          "name": "stdout",
          "text": [
            "cid  name      type           notnull  dflt_value  pk\n",
            "---  --------  -------------  -------  ----------  --\n",
            "0    ArtistId  INTEGER        1                    1 \n",
            "1    Name      NVARCHAR(120)  0                    0 \n"
          ]
        }
      ]
    },
    {
      "cell_type": "markdown",
      "source": [
        "Let's display the customers table"
      ],
      "metadata": {
        "id": "1mHdn_5dIK9h"
      }
    },
    {
      "cell_type": "code",
      "source": [
        "  # Select the first 10 entries from the employees table\n",
        "%%script sqlite3 --column --header chinook.db\n",
        "select *\n",
        "from customers\n",
        "limit 10\n"
      ],
      "metadata": {
        "colab": {
          "base_uri": "https://localhost:8080/"
        },
        "id": "lzQlfOSAvBBl",
        "outputId": "83732815-030f-4101-d746-2ed63bde3a30",
        "collapsed": true
      },
      "execution_count": 75,
      "outputs": [
        {
          "output_type": "stream",
          "name": "stdout",
          "text": [
            "CustomerId  FirstName  LastName     Company                                           Address                               City                 State  Country         PostalCode  Phone               Fax                 Email                     SupportRepId\n",
            "----------  ---------  -----------  ------------------------------------------------  ------------------------------------  -------------------  -----  --------------  ----------  ------------------  ------------------  ------------------------  ------------\n",
            "1           Luís       Gonçalves    Embraer - Empresa Brasileira de Aeronáutica S.A.  Av. Brigadeiro Faria Lima, 2170       São José dos Campos  SP     Brazil          12227-000   +55 (12) 3923-5555  +55 (12) 3923-5566  luisg@embraer.com.br      3           \n",
            "2           Leonie     Köhler                                                         Theodor-Heuss-Straße 34               Stuttgart                   Germany         70174       +49 0711 2842222                        leonekohler@surfeu.de     5           \n",
            "3           François   Tremblay                                                       1498 rue Bélanger                     Montréal             QC     Canada          H2G 1A7     +1 (514) 721-4711                       ftremblay@gmail.com       3           \n",
            "4           Bjørn      Hansen                                                         Ullevålsveien 14                      Oslo                        Norway          0171        +47 22 44 22 22                         bjorn.hansen@yahoo.no     4           \n",
            "5           František  Wichterlová  JetBrains s.r.o.                                  Klanova 9/506                         Prague                      Czech Republic  14700       +420 2 4172 5555    +420 2 4172 5555    frantisekw@jetbrains.com  4           \n",
            "6           Helena     Holý                                                           Rilská 3174/6                         Prague                      Czech Republic  14300       +420 2 4177 0449                        hholy@gmail.com           5           \n",
            "7           Astrid     Gruber                                                         Rotenturmstraße 4, 1010 Innere Stadt  Vienne                      Austria         1010        +43 01 5134505                          astrid.gruber@apple.at    5           \n",
            "8           Daan       Peeters                                                        Grétrystraat 63                       Brussels                    Belgium         1000        +32 02 219 03 03                        daan_peeters@apple.be     4           \n",
            "9           Kara       Nielsen                                                        Sønder Boulevard 51                   Copenhagen                  Denmark         1720        +453 3331 9991                          kara.nielsen@jubii.dk     4           \n",
            "10          Eduardo    Martins      Woodstock Discos                                  Rua Dr. Falcão Filho, 155             São Paulo            SP     Brazil          01007-010   +55 (11) 3033-5446  +55 (11) 3033-4564  eduardo@woodstock.com.br  4           \n"
          ]
        }
      ]
    },
    {
      "cell_type": "markdown",
      "source": [
        "## Let's ask some questions about this Dataset"
      ],
      "metadata": {
        "id": "FIn2_wl4wOQf"
      }
    },
    {
      "cell_type": "markdown",
      "source": [
        "When did we hire the first employee?"
      ],
      "metadata": {
        "id": "qFeiUGG1H4Ld"
      }
    },
    {
      "cell_type": "code",
      "source": [
        "%%script sqlite3 --column --header chinook.db\n",
        "\n",
        "select min(hiredate)\n",
        "from employees"
      ],
      "metadata": {
        "colab": {
          "base_uri": "https://localhost:8080/"
        },
        "id": "e9i7vDFvVY09",
        "outputId": "94032305-92e0-46b1-abff-8b5d192905ce"
      },
      "execution_count": 61,
      "outputs": [
        {
          "output_type": "stream",
          "name": "stdout",
          "text": [
            "min(hiredate)      \n",
            "-------------------\n",
            "2002-04-01 00:00:00\n"
          ]
        }
      ]
    },
    {
      "cell_type": "markdown",
      "source": [
        "What's the name of the first hired and the city where they're from?"
      ],
      "metadata": {
        "id": "itFN1r3KHxBp"
      }
    },
    {
      "cell_type": "code",
      "source": [
        "%%script sqlite3 --column --header chinook.db\n",
        "\n",
        "select city, firstname,lastname\n",
        "from employees\n",
        "where hiredate = '2002-04-01 00:00:00'"
      ],
      "metadata": {
        "colab": {
          "base_uri": "https://localhost:8080/"
        },
        "id": "JgaU4GS4WBA7",
        "outputId": "e8ce6d6c-d088-4b37-ce12-4ddcf5eb33cf"
      },
      "execution_count": 62,
      "outputs": [
        {
          "output_type": "stream",
          "name": "stdout",
          "text": [
            "City     FirstName  LastName\n",
            "-------  ---------  --------\n",
            "Calgary  Jane       Peacock \n"
          ]
        }
      ]
    },
    {
      "cell_type": "markdown",
      "source": [
        "What's the name of the GM?"
      ],
      "metadata": {
        "id": "n_6tD9ghHs5J"
      }
    },
    {
      "cell_type": "code",
      "source": [
        "%%script sqlite3 --column --header chinook.db\n",
        "\n",
        "select firstname, lastname\n",
        "from employees\n",
        "where title = 'General Manager'"
      ],
      "metadata": {
        "id": "8Q00DJVOT74E",
        "colab": {
          "base_uri": "https://localhost:8080/"
        },
        "outputId": "40063fc1-f073-43fa-9540-9bb766f38644"
      },
      "execution_count": 84,
      "outputs": [
        {
          "output_type": "stream",
          "name": "stdout",
          "text": [
            "FirstName  LastName\n",
            "---------  --------\n",
            "Andrew     Adams   \n"
          ]
        }
      ]
    },
    {
      "cell_type": "markdown",
      "source": [
        "What's the average unit price for tracks in the latin genre?"
      ],
      "metadata": {
        "id": "IK13ISwPHfSP"
      }
    },
    {
      "cell_type": "code",
      "source": [
        "%%script sqlite3 --column --header chinook.db\n",
        "\n",
        "SELECT AVG(tracks.unitprice)\n",
        "from tracks\n",
        "JOIN genres\n",
        "ON tracks.genreId = genres.genreId\n",
        "WHERE genres.name = 'Latin';"
      ],
      "metadata": {
        "colab": {
          "base_uri": "https://localhost:8080/"
        },
        "collapsed": true,
        "id": "9etkOtLZi3kH",
        "outputId": "28c9a91d-1650-47e8-b0d6-627a212172fc"
      },
      "execution_count": 64,
      "outputs": [
        {
          "output_type": "stream",
          "name": "stdout",
          "text": [
            "AVG(tracks.unitprice)\n",
            "---------------------\n",
            "0.990000000000007    \n"
          ]
        }
      ]
    },
    {
      "cell_type": "markdown",
      "source": [
        "How many invoices greater than $10 do we have?"
      ],
      "metadata": {
        "id": "syrZVTxwHVvG"
      }
    },
    {
      "cell_type": "code",
      "source": [
        "%%script sqlite3 --column --header chinook.db\n",
        "\n",
        "select count(customers.customerid)\n",
        "from customers\n",
        "join invoices\n",
        "on customers.customerid = invoices.customerid\n",
        "where invoices.customerid > 10"
      ],
      "metadata": {
        "colab": {
          "base_uri": "https://localhost:8080/"
        },
        "collapsed": true,
        "id": "qnDG24FCi3g-",
        "outputId": "69dfcd4c-156d-4b38-e401-27183ef3fba6"
      },
      "execution_count": 65,
      "outputs": [
        {
          "output_type": "stream",
          "name": "stdout",
          "text": [
            "count(customers.customerid)\n",
            "---------------------------\n",
            "342                        \n"
          ]
        }
      ]
    },
    {
      "cell_type": "markdown",
      "source": [
        "Which customers did these transactions?"
      ],
      "metadata": {
        "id": "qqF_M5osHRDr"
      }
    },
    {
      "cell_type": "code",
      "source": [
        "%%script sqlite3 --column --header chinook.db\n",
        "\n",
        "SELECT customers.customerid,customers.firstname, customers.lastname\n",
        "FROM customers\n",
        "JOIN invoices\n",
        "ON customers.customerid = invoices.customerid\n",
        "GROUP BY customers.customerid\n",
        "HAVING COUNT(invoices.invoiceid) > 10;"
      ],
      "metadata": {
        "id": "s3imASByi3d1"
      },
      "execution_count": 66,
      "outputs": []
    },
    {
      "cell_type": "markdown",
      "source": [
        "Which one is the longest track and by who?"
      ],
      "metadata": {
        "id": "y2iu5HkcHJ_x"
      }
    },
    {
      "cell_type": "code",
      "source": [
        "%%script sqlite3 --column --header chinook.db\n",
        "\n",
        "SELECT max(milliseconds),(tracks.name)\n",
        "FROM playlists\n",
        "JOIN playlist_track\n",
        "ON playlists.playlistid = playlist_track.playlistid\n",
        "JOIN tracks\n",
        "ON playlist_track.trackid = tracks.trackid\n",
        "limit 10\n",
        "\n"
      ],
      "metadata": {
        "colab": {
          "base_uri": "https://localhost:8080/"
        },
        "id": "-9sg2fTMi3bD",
        "outputId": "44d1a8ed-32e1-4494-fb8e-a2540e108ded"
      },
      "execution_count": 67,
      "outputs": [
        {
          "output_type": "stream",
          "name": "stdout",
          "text": [
            "max(milliseconds)  Name                  \n",
            "-----------------  ----------------------\n",
            "5286953            Occupation / Precipice\n"
          ]
        }
      ]
    },
    {
      "cell_type": "markdown",
      "source": [
        "When did the lowest purchase happen?"
      ],
      "metadata": {
        "id": "X_y_b34eHD0F"
      }
    },
    {
      "cell_type": "code",
      "source": [
        "%%script sqlite3 --column --header chinook.db\n",
        "select min(invoicedate)\n",
        "from invoices\n",
        "limit 10"
      ],
      "metadata": {
        "colab": {
          "base_uri": "https://localhost:8080/"
        },
        "id": "vFxJUdNagGFR",
        "outputId": "b1e877b7-9f4d-4a14-cf14-25ad9299f665"
      },
      "execution_count": 68,
      "outputs": [
        {
          "output_type": "stream",
          "name": "stdout",
          "text": [
            "min(invoicedate)   \n",
            "-------------------\n",
            "2009-01-01 00:00:00\n"
          ]
        }
      ]
    },
    {
      "cell_type": "markdown",
      "source": [
        "Which, When and from where is the customer with the highest payment made?"
      ],
      "metadata": {
        "id": "DK1ICuVHG3M0"
      }
    },
    {
      "cell_type": "code",
      "source": [
        "%%script sqlite3 --column --header chinook.db\n",
        "\n",
        "SELECT\n",
        "\n",
        "[customers].[customerid],\n",
        "customers.FirstName,\n",
        "(customers.Lastname),\n",
        "(customers.country),\n",
        "max(invoices.total),\n",
        "invoices.invoicedate\n",
        "\n",
        "FROM customers\n",
        "\n",
        "join invoices\n",
        "\n",
        "on customers.customerid = invoices.customerid\n",
        "limit 10\n",
        "\n",
        "\n"
      ],
      "metadata": {
        "colab": {
          "base_uri": "https://localhost:8080/"
        },
        "id": "D-pEYeTAi3YK",
        "outputId": "c1c32139-016d-4039-8bd6-4c556013cf91"
      },
      "execution_count": 70,
      "outputs": [
        {
          "output_type": "stream",
          "name": "stdout",
          "text": [
            "CustomerId  FirstName  LastName  Country         max(invoices.total)  InvoiceDate        \n",
            "----------  ---------  --------  --------------  -------------------  -------------------\n",
            "6           Helena     Holý      Czech Republic  25.86                2013-11-13 00:00:00\n"
          ]
        }
      ]
    },
    {
      "cell_type": "markdown",
      "source": [
        "How many invoices did we have the first 3 days of the month of January of 2009?"
      ],
      "metadata": {
        "id": "KU9LUwKeGttk"
      }
    },
    {
      "cell_type": "code",
      "source": [
        "%%script sqlite3 --column --header chinook.db\n",
        "\n",
        "SELECT *\n",
        "FROM invoices\n",
        "WHERE invoicedate BETWEEN '2009-01-01 00:00:00' AND '2009-01-03 00:00:00'\n",
        "limit 5"
      ],
      "metadata": {
        "colab": {
          "base_uri": "https://localhost:8080/"
        },
        "id": "RzC1CqVKifXE",
        "outputId": "a588fcbd-fa71-4013-a350-1910a7f9df3d"
      },
      "execution_count": 71,
      "outputs": [
        {
          "output_type": "stream",
          "name": "stdout",
          "text": [
            "InvoiceId  CustomerId  InvoiceDate          BillingAddress           BillingCity  BillingState  BillingCountry  BillingPostalCode  Total\n",
            "---------  ----------  -------------------  -----------------------  -----------  ------------  --------------  -----------------  -----\n",
            "1          2           2009-01-01 00:00:00  Theodor-Heuss-Straße 34  Stuttgart                  Germany         70174              1.98 \n",
            "2          4           2009-01-02 00:00:00  Ullevålsveien 14         Oslo                       Norway          0171               3.96 \n",
            "3          8           2009-01-03 00:00:00  Grétrystraat 63          Brussels                   Belgium         1000               5.94 \n"
          ]
        }
      ]
    },
    {
      "cell_type": "markdown",
      "source": [
        "How many invoices were generated the first month?"
      ],
      "metadata": {
        "id": "lGQg9xlT2FLO"
      }
    },
    {
      "cell_type": "code",
      "source": [
        "\n",
        "%%script sqlite3 --column --header chinook.db\n",
        "SELECT COUNT(*) AS invoice_count\n",
        "FROM invoices\n",
        "WHERE strftime('%Y-%m', invoicedate) = '2009-01';"
      ],
      "metadata": {
        "colab": {
          "base_uri": "https://localhost:8080/"
        },
        "id": "sH-mEhdSi3VS",
        "outputId": "16272110-5283-4bfe-99e8-e4187ad6f5df"
      },
      "execution_count": 72,
      "outputs": [
        {
          "output_type": "stream",
          "name": "stdout",
          "text": [
            "invoice_count\n",
            "-------------\n",
            "6            \n"
          ]
        }
      ]
    },
    {
      "cell_type": "markdown",
      "source": [
        "Display each employee with the person they report to"
      ],
      "metadata": {
        "id": "3iBWbxQMA6kf"
      }
    },
    {
      "cell_type": "code",
      "source": [
        "%%script sqlite3 --column --header chinook.db\n",
        "\n",
        "with\n",
        "emp as (\n",
        "  select EmployeeID, FirstName, Lastname, ReportsTo\n",
        "  from employees\n",
        ")\n",
        "\n",
        "select *\n",
        "from emp\n",
        "limit 10\n"
      ],
      "metadata": {
        "colab": {
          "base_uri": "https://localhost:8080/"
        },
        "id": "2AXDQMbMvaHg",
        "outputId": "38e94879-e77d-4283-dbfb-455a7dbcbff6"
      },
      "execution_count": 73,
      "outputs": [
        {
          "output_type": "stream",
          "name": "stdout",
          "text": [
            "EmployeeID  FirstName  Lastname  ReportsTo\n",
            "----------  ---------  --------  ---------\n",
            "1           Andrew     Adams              \n",
            "2           Nancy      Edwards   1        \n",
            "3           Jane       Peacock   2        \n",
            "4           Margaret   Park      2        \n",
            "5           Steve      Johnson   2        \n",
            "6           Michael    Mitchell  1        \n",
            "7           Robert     King      6        \n",
            "8           Laura      Callahan  6        \n"
          ]
        }
      ]
    },
    {
      "cell_type": "markdown",
      "source": [
        "How many customers firstname start with the letter A?"
      ],
      "metadata": {
        "id": "LxMHPChOGexx"
      }
    },
    {
      "cell_type": "code",
      "source": [
        "%%script sqlite3 --column --header chinook.db\n",
        "\n",
        "SELECT FirstName AS name\n",
        "FROM customers\n",
        "WHERE name LIKE 'A%'\n",
        ";\n"
      ],
      "metadata": {
        "id": "sKXAePiv0rpS",
        "colab": {
          "base_uri": "https://localhost:8080/"
        },
        "outputId": "f2269ada-1e33-4b65-979e-4aa2b098b74e"
      },
      "execution_count": 82,
      "outputs": [
        {
          "output_type": "stream",
          "name": "stdout",
          "text": [
            "name     \n",
            "---------\n",
            "Astrid   \n",
            "Alexandre\n",
            "Aaron    \n"
          ]
        }
      ]
    },
    {
      "cell_type": "code",
      "source": [],
      "metadata": {
        "id": "sZtUIqk0GKRt"
      },
      "execution_count": null,
      "outputs": []
    }
  ]
}