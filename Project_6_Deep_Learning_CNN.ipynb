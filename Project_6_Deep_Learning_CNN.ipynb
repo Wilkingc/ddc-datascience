{
  "metadata": {
    "kernelspec": {
      "name": "python3",
      "display_name": "Python 3",
      "language": "python"
    },
    "language_info": {
      "name": "python",
      "version": "3.10.14",
      "mimetype": "text/x-python",
      "codemirror_mode": {
        "name": "ipython",
        "version": 3
      },
      "pygments_lexer": "ipython3",
      "nbconvert_exporter": "python",
      "file_extension": ".py"
    },
    "colab": {
      "toc_visible": true,
      "provenance": [],
      "name": "Project_6_Deep_Learning_CNN",
      "include_colab_link": true
    },
    "kaggle": {
      "accelerator": "gpu",
      "dataSources": [],
      "dockerImageVersionId": 30787,
      "isInternetEnabled": true,
      "language": "python",
      "sourceType": "notebook",
      "isGpuEnabled": true
    }
  },
  "nbformat_minor": 0,
  "nbformat": 4,
  "cells": [
    {
      "cell_type": "markdown",
      "metadata": {
        "id": "view-in-github",
        "colab_type": "text"
      },
      "source": [
        "<a href=\"https://colab.research.google.com/github/Wilkingc/ddc-datascience/blob/main/Project_6_Deep_Learning_CNN.ipynb\" target=\"_parent\"><img src=\"https://colab.research.google.com/assets/colab-badge.svg\" alt=\"Open In Colab\"/></a>"
      ]
    },
    {
      "cell_type": "markdown",
      "source": [
        "# Image Recognition Algorithm"
      ],
      "metadata": {
        "id": "Z7IxnO3ZGqlL"
      }
    },
    {
      "cell_type": "markdown",
      "source": [
        "Wilking Chali Alphonse\n",
        "11/25/2024"
      ],
      "metadata": {
        "id": "fBazmtIzgRLw"
      }
    },
    {
      "cell_type": "markdown",
      "source": [
        "## Problem Definition"
      ],
      "metadata": {
        "id": "f5PuSqe-H8u5"
      }
    },
    {
      "cell_type": "markdown",
      "source": [
        "\n",
        "This is a supervised clasification problem.\n",
        "\n",
        "The goal is to create a ML model with Tensorflow / Keras and create a convolutional neural network to identify if an image is a cat or a dog based on multiple inputs.\n"
      ],
      "metadata": {
        "id": "nCOQv4YvXPBE"
      }
    },
    {
      "cell_type": "markdown",
      "source": [
        "## Imports"
      ],
      "metadata": {
        "id": "7WkWYrIiuEL4"
      }
    },
    {
      "cell_type": "code",
      "source": [
        "import pickle\n",
        "import tensorflow.keras as keras\n",
        "import tensorflow as tf\n",
        "import pandas as pd\n",
        "import numpy as np\n",
        "import matplotlib.pyplot as plt\n",
        "from sklearn import datasets\n",
        "from keras.models import Sequential\n",
        "from keras.layers import Dense, Flatten, Conv2D, MaxPooling2D\n",
        "from keras.utils import plot_model\n",
        "from sklearn.model_selection import train_test_split\n",
        "from sklearn.preprocessing import StandardScaler\n",
        "from sklearn.preprocessing import MinMaxScaler"
      ],
      "metadata": {
        "id": "ZTGmmJGuJOMW",
        "trusted": true,
        "execution": {
          "iopub.status.busy": "2024-11-24T01:18:47.270636Z",
          "iopub.execute_input": "2024-11-24T01:18:47.271288Z",
          "iopub.status.idle": "2024-11-24T01:18:59.377438Z",
          "shell.execute_reply.started": "2024-11-24T01:18:47.271243Z",
          "shell.execute_reply": "2024-11-24T01:18:59.376512Z"
        }
      },
      "outputs": [],
      "execution_count": null
    },
    {
      "cell_type": "markdown",
      "source": [
        "## Data Collection & Path"
      ],
      "metadata": {
        "id": "Ll3rUMEKH_b9"
      }
    },
    {
      "cell_type": "code",
      "source": [
        "Xurl = 'https://ddc-datascience.s3.amazonaws.com/Projects/Project.6-Images/Data/X.pickle' # Training set url"
      ],
      "metadata": {
        "id": "nQTPStF_JO1N",
        "trusted": true,
        "execution": {
          "iopub.status.busy": "2024-11-24T01:18:59.378876Z",
          "iopub.execute_input": "2024-11-24T01:18:59.379422Z",
          "iopub.status.idle": "2024-11-24T01:18:59.383822Z",
          "shell.execute_reply.started": "2024-11-24T01:18:59.379362Z",
          "shell.execute_reply": "2024-11-24T01:18:59.38272Z"
        }
      },
      "outputs": [],
      "execution_count": null
    },
    {
      "cell_type": "code",
      "source": [
        "Yurl = 'https://ddc-datascience.s3.amazonaws.com/Projects/Project.6-Images/Data/y.pickle' # Testing set url"
      ],
      "metadata": {
        "id": "PEG9hXZLkn1A",
        "trusted": true,
        "execution": {
          "iopub.status.busy": "2024-11-24T01:18:59.385204Z",
          "iopub.execute_input": "2024-11-24T01:18:59.385594Z",
          "iopub.status.idle": "2024-11-24T01:18:59.405983Z",
          "shell.execute_reply.started": "2024-11-24T01:18:59.38555Z",
          "shell.execute_reply": "2024-11-24T01:18:59.405138Z"
        }
      },
      "outputs": [],
      "execution_count": null
    },
    {
      "cell_type": "code",
      "source": [
        "s3 = 'https://ddc-datascience.s3.amazonaws.com/Projects/Project.6-Images/Data/dog.jpg' # Dog image to measure model performance"
      ],
      "metadata": {
        "id": "rmg9y9Ocue0L",
        "trusted": true,
        "execution": {
          "iopub.status.busy": "2024-11-24T01:18:59.407708Z",
          "iopub.execute_input": "2024-11-24T01:18:59.407962Z",
          "iopub.status.idle": "2024-11-24T01:18:59.418364Z",
          "shell.execute_reply.started": "2024-11-24T01:18:59.407938Z",
          "shell.execute_reply": "2024-11-24T01:18:59.417605Z"
        }
      },
      "outputs": [],
      "execution_count": null
    },
    {
      "cell_type": "code",
      "source": [
        "Xdata_load = pd.read_pickle(Xurl) # Reading Pickle file with pandas"
      ],
      "metadata": {
        "id": "4QfDl-fbufWi",
        "trusted": true,
        "execution": {
          "iopub.status.busy": "2024-11-24T01:18:59.419259Z",
          "iopub.execute_input": "2024-11-24T01:18:59.419587Z",
          "iopub.status.idle": "2024-11-24T01:19:04.54709Z",
          "shell.execute_reply.started": "2024-11-24T01:18:59.419548Z",
          "shell.execute_reply": "2024-11-24T01:19:04.546337Z"
        }
      },
      "outputs": [],
      "execution_count": null
    },
    {
      "cell_type": "code",
      "source": [
        "Ydata_load = pd.read_pickle(Yurl)  # Reading Pickle file with pandas"
      ],
      "metadata": {
        "id": "CojdhHVxksL2",
        "trusted": true,
        "execution": {
          "iopub.status.busy": "2024-11-24T01:19:04.548076Z",
          "iopub.execute_input": "2024-11-24T01:19:04.548311Z",
          "iopub.status.idle": "2024-11-24T01:19:04.693915Z",
          "shell.execute_reply.started": "2024-11-24T01:19:04.548288Z",
          "shell.execute_reply": "2024-11-24T01:19:04.693231Z"
        }
      },
      "outputs": [],
      "execution_count": null
    },
    {
      "cell_type": "markdown",
      "source": [
        "## Data Cleaning"
      ],
      "metadata": {
        "id": "Qv-tmJlyIBrL"
      }
    },
    {
      "cell_type": "markdown",
      "source": [
        "Let's make a copy of both sets so we can have a checkpoint in case we need to re-start our work"
      ],
      "metadata": {
        "id": "FsUjUF8OgRLy"
      }
    },
    {
      "cell_type": "code",
      "source": [
        "X = Xdata_load.copy()\n",
        "Y = Ydata_load.copy()\n",
        "Y = np.array(Ydf)"
      ],
      "metadata": {
        "id": "EzDPOBMLJPnI",
        "trusted": true,
        "execution": {
          "iopub.status.busy": "2024-11-24T02:48:32.779043Z",
          "iopub.execute_input": "2024-11-24T02:48:32.779847Z",
          "iopub.status.idle": "2024-11-24T02:48:32.87964Z",
          "shell.execute_reply.started": "2024-11-24T02:48:32.779815Z",
          "shell.execute_reply": "2024-11-24T02:48:32.87888Z"
        }
      },
      "outputs": [],
      "execution_count": null
    },
    {
      "cell_type": "code",
      "source": [
        "X_scaled = X/255.0 # Scaling X so values fall between 0 and 1"
      ],
      "metadata": {
        "id": "dCriM0Uv88ZM",
        "trusted": true,
        "execution": {
          "iopub.status.busy": "2024-11-24T02:48:35.856599Z",
          "iopub.execute_input": "2024-11-24T02:48:35.857263Z",
          "iopub.status.idle": "2024-11-24T02:48:36.456145Z",
          "shell.execute_reply.started": "2024-11-24T02:48:35.857232Z",
          "shell.execute_reply": "2024-11-24T02:48:36.455435Z"
        }
      },
      "outputs": [],
      "execution_count": null
    },
    {
      "cell_type": "markdown",
      "source": [
        "## Exploratory Data Analysis"
      ],
      "metadata": {
        "id": "UDccpNdgIEHR"
      }
    },
    {
      "cell_type": "markdown",
      "source": [
        "\n",
        "Check values of X and Y"
      ],
      "metadata": {
        "id": "VRCwjqGZXLG6"
      }
    },
    {
      "cell_type": "markdown",
      "source": [
        "### X Values"
      ],
      "metadata": {
        "id": "IHUKjeIUgjvY"
      }
    },
    {
      "cell_type": "code",
      "source": [
        "X_scaled.shape, Y.shape"
      ],
      "metadata": {
        "id": "JP2pJKMBJQhk",
        "trusted": true,
        "execution": {
          "iopub.status.busy": "2024-11-24T01:19:05.424962Z",
          "iopub.execute_input": "2024-11-24T01:19:05.425279Z",
          "iopub.status.idle": "2024-11-24T01:19:05.437178Z",
          "shell.execute_reply.started": "2024-11-24T01:19:05.425245Z",
          "shell.execute_reply": "2024-11-24T01:19:05.436543Z"
        }
      },
      "outputs": [],
      "execution_count": null
    },
    {
      "cell_type": "code",
      "source": [
        "plt.imshow(X_scaled[66,:,:,0],cmap = plt.cm.gray_r )\n",
        "plt.show()"
      ],
      "metadata": {
        "id": "mLrKmkb6GOk5",
        "trusted": true,
        "execution": {
          "iopub.status.busy": "2024-11-24T01:19:05.438113Z",
          "iopub.execute_input": "2024-11-24T01:19:05.438475Z",
          "iopub.status.idle": "2024-11-24T01:19:05.828168Z",
          "shell.execute_reply.started": "2024-11-24T01:19:05.438451Z",
          "shell.execute_reply": "2024-11-24T01:19:05.827351Z"
        }
      },
      "outputs": [],
      "execution_count": null
    },
    {
      "cell_type": "markdown",
      "source": [
        "### Y Values"
      ],
      "metadata": {
        "id": "ONRmzgpFgnh0"
      }
    },
    {
      "cell_type": "code",
      "source": [
        "Y[66] # 0 = dog and 1 = cats"
      ],
      "metadata": {
        "id": "XL6omlF6gnPb",
        "trusted": true,
        "execution": {
          "iopub.status.busy": "2024-11-24T01:19:05.829263Z",
          "iopub.execute_input": "2024-11-24T01:19:05.829636Z",
          "iopub.status.idle": "2024-11-24T01:19:05.835485Z",
          "shell.execute_reply.started": "2024-11-24T01:19:05.829599Z",
          "shell.execute_reply": "2024-11-24T01:19:05.834645Z"
        }
      },
      "outputs": [],
      "execution_count": null
    },
    {
      "cell_type": "markdown",
      "source": [
        "## Data Processing"
      ],
      "metadata": {
        "id": "1swvVYT3IGoH"
      }
    },
    {
      "cell_type": "markdown",
      "source": [
        "\n",
        "* Split X and y into training and testing sets."
      ],
      "metadata": {
        "id": "-MRKZ22_XI90"
      }
    },
    {
      "cell_type": "code",
      "source": [
        "# Split the data up in train and test sets\n",
        "X_train, X_test, y_train, y_test = train_test_split(X_scaled, Y, test_size=0.25, random_state=42)"
      ],
      "metadata": {
        "id": "FU2fm8KtJRbW",
        "trusted": true,
        "execution": {
          "iopub.status.busy": "2024-11-24T02:48:41.329768Z",
          "iopub.execute_input": "2024-11-24T02:48:41.330437Z",
          "iopub.status.idle": "2024-11-24T02:48:41.902555Z",
          "shell.execute_reply.started": "2024-11-24T02:48:41.330404Z",
          "shell.execute_reply": "2024-11-24T02:48:41.90187Z"
        }
      },
      "outputs": [],
      "execution_count": null
    },
    {
      "cell_type": "code",
      "source": [
        "X_train.shape, X_test.shape,  y_train.shape , y_test.shape"
      ],
      "metadata": {
        "id": "efYxVJENyvmL",
        "trusted": true,
        "execution": {
          "iopub.status.busy": "2024-11-24T02:48:44.590649Z",
          "iopub.execute_input": "2024-11-24T02:48:44.590953Z",
          "iopub.status.idle": "2024-11-24T02:48:44.596634Z",
          "shell.execute_reply.started": "2024-11-24T02:48:44.590929Z",
          "shell.execute_reply": "2024-11-24T02:48:44.595677Z"
        }
      },
      "outputs": [],
      "execution_count": null
    },
    {
      "cell_type": "markdown",
      "source": [
        "Function in pause, just in case normalization it's needed"
      ],
      "metadata": {
        "id": "ywq5dsWUgRLz"
      }
    },
    {
      "cell_type": "code",
      "source": [
        "# from sklearn.preprocessing import StandardScaler\n",
        "\n",
        "# def scale_4d_array(array):\n",
        "#   \"\"\"Scales a 4D NumPy array using StandardScaler.\n",
        "\n",
        "#   Args:\n",
        "#     array: The 4D NumPy array to scale.\n",
        "\n",
        "#   Returns:\n",
        "#     The scaled 4D NumPy array.\n",
        "#   \"\"\"\n",
        "\n",
        "#   # Reshape the 4D array to a 2D array for efficient scaling\n",
        "#   reshaped_array = array.reshape(-1, array.shape[-1])\n",
        "\n",
        "#   # Create a StandardScaler object\n",
        "#   scaler = StandardScaler()\n",
        "\n",
        "#   # Fit the scaler to the reshaped data\n",
        "#   scaler.fit(reshaped_array)\n",
        "\n",
        "#   # Transform the data\n",
        "#   scaled_array = scaler.transform(reshaped_array)\n",
        "\n",
        "#   # Reshape the scaled data back to the original 4D shape\n",
        "#   scaled_array = scaled_array.reshape(array.shape)\n",
        "\n",
        "#   return scaled_array"
      ],
      "metadata": {
        "trusted": true,
        "execution": {
          "iopub.status.busy": "2024-11-24T02:34:01.754906Z",
          "iopub.execute_input": "2024-11-24T02:34:01.755619Z",
          "iopub.status.idle": "2024-11-24T02:34:01.760739Z",
          "shell.execute_reply.started": "2024-11-24T02:34:01.75558Z",
          "shell.execute_reply": "2024-11-24T02:34:01.759828Z"
        },
        "id": "MUZF6z4OgRLz"
      },
      "outputs": [],
      "execution_count": null
    },
    {
      "cell_type": "code",
      "source": [
        "# X_train =scale_4d_array(X_train)\n",
        "# X_test = scale_4d_array(X_test)"
      ],
      "metadata": {
        "trusted": true,
        "execution": {
          "iopub.status.busy": "2024-11-24T02:35:16.432745Z",
          "iopub.execute_input": "2024-11-24T02:35:16.43341Z",
          "iopub.status.idle": "2024-11-24T02:35:19.492747Z",
          "shell.execute_reply.started": "2024-11-24T02:35:16.433354Z",
          "shell.execute_reply": "2024-11-24T02:35:19.491814Z"
        },
        "id": "6OlbsEFcgRLz"
      },
      "outputs": [],
      "execution_count": null
    },
    {
      "cell_type": "markdown",
      "source": [
        "Let's start our convolutional sequential model and compile it"
      ],
      "metadata": {
        "id": "M6z3mCytgRLz"
      }
    },
    {
      "cell_type": "code",
      "source": [
        "model = Sequential()\n",
        "\n",
        "# Define input layer\n",
        "\n",
        "model.add(\n",
        "  Conv2D(name = \"input\",input_shape = X_train.shape[1:],\n",
        "         filters = 8, kernel_size = (3,3),\n",
        "    activation = 'relu',\n",
        "  )\n",
        ")\n",
        "\n",
        "model.add(\n",
        "    MaxPooling2D(pool_size=(2,2))\n",
        ")\n",
        "\n",
        "# Define second hidden layer\n",
        "model.add(\n",
        "  Conv2D(filters = 8, kernel_size = (3,3), activation = 'relu',\n",
        "  )\n",
        ")\n",
        "\n",
        "model.add(\n",
        "  MaxPooling2D(pool_size=(2,2))\n",
        ")\n",
        "\n",
        "model.add( Flatten()\n",
        ")\n",
        "\n",
        "# Define output layer\n",
        "model.add(\n",
        "  Dense(name = \"output\",units = 1,activation = 'sigmoid',\n",
        "  )\n",
        ")\n",
        "\n",
        "\n",
        "# Compile model\n",
        "model.compile(\n",
        "  optimizer = 'adam',\n",
        "  loss = 'binary_crossentropy',\n",
        "  metrics = ['accuracy'],\n",
        ")\n"
      ],
      "metadata": {
        "id": "fdbqb0r4GJuQ",
        "trusted": true,
        "execution": {
          "iopub.status.busy": "2024-11-24T02:48:47.389519Z",
          "iopub.execute_input": "2024-11-24T02:48:47.389851Z",
          "iopub.status.idle": "2024-11-24T02:48:47.86374Z",
          "shell.execute_reply.started": "2024-11-24T02:48:47.389823Z",
          "shell.execute_reply": "2024-11-24T02:48:47.862846Z"
        }
      },
      "outputs": [],
      "execution_count": null
    },
    {
      "cell_type": "markdown",
      "source": [
        "### Fit model"
      ],
      "metadata": {
        "id": "4PdR23y7wjnr"
      }
    },
    {
      "cell_type": "code",
      "source": [
        "X_train.shape, y_train.shape # Check set shape values"
      ],
      "metadata": {
        "id": "yYJH7OTZG3uz",
        "trusted": true,
        "execution": {
          "iopub.status.busy": "2024-11-24T02:35:24.101358Z",
          "iopub.execute_input": "2024-11-24T02:35:24.101741Z",
          "iopub.status.idle": "2024-11-24T02:35:24.107428Z",
          "shell.execute_reply.started": "2024-11-24T02:35:24.101713Z",
          "shell.execute_reply": "2024-11-24T02:35:24.106543Z"
        }
      },
      "outputs": [],
      "execution_count": null
    },
    {
      "cell_type": "code",
      "source": [
        "# Fit model using training data\n",
        "model.fit(X_train, y_train, epochs=12) ;"
      ],
      "metadata": {
        "id": "dA_hxFlOwmEG",
        "trusted": true,
        "execution": {
          "iopub.status.busy": "2024-11-24T02:48:50.800995Z",
          "iopub.execute_input": "2024-11-24T02:48:50.801365Z",
          "iopub.status.idle": "2024-11-24T02:49:12.115047Z",
          "shell.execute_reply.started": "2024-11-24T02:48:50.801333Z",
          "shell.execute_reply": "2024-11-24T02:49:12.114342Z"
        }
      },
      "outputs": [],
      "execution_count": null
    },
    {
      "cell_type": "code",
      "source": [
        "model.summary()"
      ],
      "metadata": {
        "id": "KGKc6CHQl8Jb",
        "trusted": true,
        "execution": {
          "iopub.status.busy": "2024-11-24T02:38:08.920026Z",
          "iopub.execute_input": "2024-11-24T02:38:08.92036Z",
          "iopub.status.idle": "2024-11-24T02:38:08.940597Z",
          "shell.execute_reply.started": "2024-11-24T02:38:08.920329Z",
          "shell.execute_reply": "2024-11-24T02:38:08.939776Z"
        }
      },
      "outputs": [],
      "execution_count": null
    },
    {
      "cell_type": "markdown",
      "source": [
        "#### Testing the model with testing set"
      ],
      "metadata": {
        "id": "A8ClgcY4mzBe"
      }
    },
    {
      "cell_type": "code",
      "source": [
        "val_loss, val_acc = model.evaluate(X_test, y_test)\n",
        "print(val_loss)\n",
        "print(val_acc)"
      ],
      "metadata": {
        "id": "ECv4VWFWliKR",
        "trusted": true,
        "execution": {
          "iopub.status.busy": "2024-11-24T02:49:14.7065Z",
          "iopub.execute_input": "2024-11-24T02:49:14.70684Z",
          "iopub.status.idle": "2024-11-24T02:49:16.185282Z",
          "shell.execute_reply.started": "2024-11-24T02:49:14.706809Z",
          "shell.execute_reply": "2024-11-24T02:49:16.184477Z"
        }
      },
      "outputs": [],
      "execution_count": null
    },
    {
      "cell_type": "markdown",
      "source": [
        "### Function to 4D"
      ],
      "metadata": {
        "id": "Fv0QNIj_g3fO"
      }
    },
    {
      "cell_type": "code",
      "source": [
        "import glob\n",
        "import os\n",
        "import cv2\n",
        "import requests\n",
        "import io\n",
        "from PIL import Image"
      ],
      "metadata": {
        "id": "snHPdNPR-Z0Q",
        "trusted": true,
        "execution": {
          "iopub.status.busy": "2024-11-24T01:26:36.035482Z",
          "iopub.execute_input": "2024-11-24T01:26:36.035827Z",
          "iopub.status.idle": "2024-11-24T01:26:36.243878Z",
          "shell.execute_reply.started": "2024-11-24T01:26:36.035802Z",
          "shell.execute_reply": "2024-11-24T01:26:36.243237Z"
        }
      },
      "outputs": [],
      "execution_count": null
    },
    {
      "cell_type": "code",
      "source": [
        "def image4d (url):\n",
        "    '''\n",
        "    This function fethces an image and converts it into a numpy array\n",
        "    '''\n",
        "    response = requests.get(url, stream=True)\n",
        "    img = Image.open(io.BytesIO(response.content)).convert('L')\n",
        "    img = np.array(img)\n",
        "    return img"
      ],
      "metadata": {
        "id": "s4LEYoP-gdm4",
        "trusted": true,
        "execution": {
          "iopub.status.busy": "2024-11-24T04:44:50.871201Z",
          "iopub.execute_input": "2024-11-24T04:44:50.871863Z",
          "iopub.status.idle": "2024-11-24T04:44:50.876203Z",
          "shell.execute_reply.started": "2024-11-24T04:44:50.871832Z",
          "shell.execute_reply": "2024-11-24T04:44:50.875336Z"
        }
      },
      "outputs": [],
      "execution_count": null
    },
    {
      "cell_type": "code",
      "source": [
        "dog = image4d(s3) # Apply the function to our s3 url"
      ],
      "metadata": {
        "id": "LefzeB0JiqoX",
        "trusted": true,
        "execution": {
          "iopub.status.busy": "2024-11-24T01:26:38.399567Z",
          "iopub.execute_input": "2024-11-24T01:26:38.39988Z",
          "iopub.status.idle": "2024-11-24T01:26:38.553103Z",
          "shell.execute_reply.started": "2024-11-24T01:26:38.399855Z",
          "shell.execute_reply": "2024-11-24T01:26:38.552368Z"
        }
      },
      "outputs": [],
      "execution_count": null
    },
    {
      "cell_type": "code",
      "source": [
        "resized_image = cv2.resize(doggy, (100, 100))\n",
        "\n",
        "# Reshape to 4D with a batch dimension of 1\n",
        "final = resized_image.reshape(1, 100, 100, 1 )\n",
        "\n",
        "final.shape  # Output: (1, 100, 100, 3)"
      ],
      "metadata": {
        "id": "WlrkZol9Nm57",
        "trusted": true,
        "execution": {
          "iopub.status.busy": "2024-11-24T01:26:39.37734Z",
          "iopub.execute_input": "2024-11-24T01:26:39.377725Z",
          "iopub.status.idle": "2024-11-24T01:26:39.397259Z",
          "shell.execute_reply.started": "2024-11-24T01:26:39.377696Z",
          "shell.execute_reply": "2024-11-24T01:26:39.396459Z"
        }
      },
      "outputs": [],
      "execution_count": null
    },
    {
      "cell_type": "code",
      "source": [
        "plt.imshow(final[0]) # Display the image after being processed\n",
        "plt.show()"
      ],
      "metadata": {
        "id": "Xa0LEA-ATIpI",
        "trusted": true,
        "execution": {
          "iopub.status.busy": "2024-11-24T02:47:52.776642Z",
          "iopub.execute_input": "2024-11-24T02:47:52.776958Z",
          "iopub.status.idle": "2024-11-24T02:47:52.978113Z",
          "shell.execute_reply.started": "2024-11-24T02:47:52.776932Z",
          "shell.execute_reply": "2024-11-24T02:47:52.977226Z"
        }
      },
      "outputs": [],
      "execution_count": null
    },
    {
      "cell_type": "code",
      "source": [
        "model.predict(final) # Take a look at the prediction value of our model"
      ],
      "metadata": {
        "id": "zctYwQCI_DFi",
        "trusted": true,
        "execution": {
          "iopub.status.busy": "2024-11-24T02:50:30.672767Z",
          "iopub.execute_input": "2024-11-24T02:50:30.673138Z",
          "iopub.status.idle": "2024-11-24T02:50:30.732478Z",
          "shell.execute_reply.started": "2024-11-24T02:50:30.673106Z",
          "shell.execute_reply": "2024-11-24T02:50:30.731647Z"
        }
      },
      "outputs": [],
      "execution_count": null
    },
    {
      "cell_type": "markdown",
      "source": [
        "Display model prediction"
      ],
      "metadata": {
        "id": "WgIyFeFxYMHj"
      }
    },
    {
      "cell_type": "code",
      "source": [
        "plt.imshow(final[0])\n",
        "plt.show()\n",
        "\n",
        "predictions = model.predict(final)\n",
        "predictions = predictions > 0.5\n",
        "\n",
        "if (predictions == 1):\n",
        "  pred1 = 'dog'\n",
        "else:\n",
        "  pred1 = 'cat'\n",
        "\n",
        "print(\"Our model predict this image to be a: \", pred1)"
      ],
      "metadata": {
        "id": "kJsAIfOjwzFL",
        "trusted": true,
        "execution": {
          "iopub.status.busy": "2024-11-24T02:51:08.376631Z",
          "iopub.execute_input": "2024-11-24T02:51:08.376956Z",
          "iopub.status.idle": "2024-11-24T02:51:08.631736Z",
          "shell.execute_reply.started": "2024-11-24T02:51:08.376927Z",
          "shell.execute_reply": "2024-11-24T02:51:08.63097Z"
        }
      },
      "outputs": [],
      "execution_count": null
    },
    {
      "cell_type": "markdown",
      "source": [
        "## Communication of Results"
      ],
      "metadata": {
        "id": "tT_-Jy7ZIJ3t",
        "jupyter": {
          "source_hidden": true
        }
      }
    },
    {
      "cell_type": "markdown",
      "source": [
        "\n",
        "for our convolutional neural network:\n",
        "* We have an accuracy of 0.78 and a loss of 0.4\n",
        "* Our model can definitely improve with more changes\n",
        "* The lowest the filters for our model was the best results and lower loss value we got.\n",
        "  "
      ],
      "metadata": {
        "id": "MzKXfsuvXX7T"
      }
    },
    {
      "cell_type": "markdown",
      "source": [
        "## **BONUS** (optional)"
      ],
      "metadata": {
        "id": "ztu8gpNSILmj"
      }
    },
    {
      "cell_type": "markdown",
      "source": [
        "\n",
        "* Upload an image of your (or your friend's or family's) dog or cat and use your model to predict whether the image is a dog or cat.\n",
        "* Hint: you'll probably need to convert the image from color to grayscale.  OpenCV, pillow, and other libraries are your friend."
      ],
      "metadata": {
        "id": "DjGDKT60XY-G"
      }
    },
    {
      "cell_type": "code",
      "source": [
        "# from google.colab import drive\n",
        "# drive.mount('/content/drive')"
      ],
      "metadata": {
        "id": "PgFhabxvzCYK"
      },
      "outputs": [],
      "execution_count": null
    },
    {
      "cell_type": "code",
      "source": [
        "# pics = '/content/drive/MyDrive/Deep Learning/cat 1.jpg'"
      ],
      "metadata": {
        "id": "AUYm8Eu6y-il"
      },
      "outputs": [],
      "execution_count": null
    },
    {
      "cell_type": "code",
      "source": [
        "%%capture output # Capture output\n",
        "!conda install -y gdown # Install Google library since we're working in Kaggle"
      ],
      "metadata": {
        "trusted": true,
        "execution": {
          "iopub.status.busy": "2024-11-24T01:33:03.703406Z",
          "iopub.execute_input": "2024-11-24T01:33:03.704316Z",
          "iopub.status.idle": "2024-11-24T01:34:19.835956Z",
          "shell.execute_reply.started": "2024-11-24T01:33:03.704269Z",
          "shell.execute_reply": "2024-11-24T01:34:19.834915Z"
        },
        "id": "i46zRImRgRL3"
      },
      "outputs": [],
      "execution_count": null
    },
    {
      "cell_type": "code",
      "source": [
        "# https://drive.google.com/file/d/11i57W44MuOaIPsibk9xmNQgCwO307XPi/view?usp=drive_link #(Picture path in drive)"
      ],
      "metadata": {
        "trusted": true,
        "id": "RsNB13sxgRL4"
      },
      "outputs": [],
      "execution_count": null
    },
    {
      "cell_type": "code",
      "source": [
        "# %%capture output\n",
        "!gdown --id 11i57W44MuOaIPsibk9xmNQgCwO307XPi #Fetch image to pwd"
      ],
      "metadata": {
        "trusted": true,
        "execution": {
          "iopub.status.busy": "2024-11-24T01:38:47.634757Z",
          "iopub.execute_input": "2024-11-24T01:38:47.635097Z",
          "iopub.status.idle": "2024-11-24T01:38:52.275606Z",
          "shell.execute_reply.started": "2024-11-24T01:38:47.635067Z",
          "shell.execute_reply": "2024-11-24T01:38:52.274731Z"
        },
        "id": "hOpSfXvpgRL4"
      },
      "outputs": [],
      "execution_count": null
    },
    {
      "cell_type": "code",
      "source": [
        "!ls -la # Make sure that the image is in our directory"
      ],
      "metadata": {
        "trusted": true,
        "execution": {
          "iopub.status.busy": "2024-11-24T01:39:19.253177Z",
          "iopub.execute_input": "2024-11-24T01:39:19.253972Z",
          "iopub.status.idle": "2024-11-24T01:39:20.300365Z",
          "shell.execute_reply.started": "2024-11-24T01:39:19.253937Z",
          "shell.execute_reply": "2024-11-24T01:39:20.299458Z"
        },
        "id": "UEHZjQVmgRL4"
      },
      "outputs": [],
      "execution_count": null
    },
    {
      "cell_type": "code",
      "source": [
        "def bonus(filepath):\n",
        "    '''\n",
        "  This function takes the imported picture and resize it to an 100, 100, 1 array\n",
        "    '''\n",
        "    IMG_SIZE = 100\n",
        "    img_array = cv2.imread(filepath, cv2.IMREAD_GRAYSCALE)\n",
        "    new_array = cv2.resize(img_array, (IMG_SIZE, IMG_SIZE))\n",
        "    return new_array.reshape(-1, IMG_SIZE, IMG_SIZE, 1)"
      ],
      "metadata": {
        "id": "zOMNJ9ZyHWTD",
        "trusted": true,
        "execution": {
          "iopub.status.busy": "2024-11-24T04:43:48.544646Z",
          "iopub.execute_input": "2024-11-24T04:43:48.545421Z",
          "iopub.status.idle": "2024-11-24T04:43:48.553142Z",
          "shell.execute_reply.started": "2024-11-24T04:43:48.545382Z",
          "shell.execute_reply": "2024-11-24T04:43:48.552432Z"
        }
      },
      "outputs": [],
      "execution_count": null
    },
    {
      "cell_type": "code",
      "source": [
        "cat = bonus('cat 5.webp') # Apply function to cat image"
      ],
      "metadata": {
        "id": "se5J3i-JzqG6",
        "trusted": true,
        "execution": {
          "iopub.status.busy": "2024-11-24T01:40:19.70097Z",
          "iopub.execute_input": "2024-11-24T01:40:19.701751Z",
          "iopub.status.idle": "2024-11-24T01:40:19.816849Z",
          "shell.execute_reply.started": "2024-11-24T01:40:19.701716Z",
          "shell.execute_reply": "2024-11-24T01:40:19.816129Z"
        }
      },
      "outputs": [],
      "execution_count": null
    },
    {
      "cell_type": "code",
      "source": [
        "type(cat), cat.shape"
      ],
      "metadata": {
        "id": "s20UjIWx7FRa",
        "trusted": true,
        "execution": {
          "iopub.status.busy": "2024-11-24T01:40:24.700632Z",
          "iopub.execute_input": "2024-11-24T01:40:24.700941Z",
          "iopub.status.idle": "2024-11-24T01:40:24.706855Z",
          "shell.execute_reply.started": "2024-11-24T01:40:24.700916Z",
          "shell.execute_reply": "2024-11-24T01:40:24.705882Z"
        }
      },
      "outputs": [],
      "execution_count": null
    },
    {
      "cell_type": "markdown",
      "source": [
        "* Display model prediction"
      ],
      "metadata": {
        "id": "Ka3MVUhPgRL4"
      }
    },
    {
      "cell_type": "code",
      "source": [
        "plt.imshow(cat[0])\n",
        "plt.show()\n",
        "\n",
        "prediction = model.predict(cat)\n",
        "prediction = prediction > 0.5\n",
        "\n",
        "if (predictions == 0):\n",
        "  pred = 'dog'\n",
        "else:\n",
        "  pred = 'cat'\n",
        "\n",
        "print(\"Our model predict this image to be a: \", pred)"
      ],
      "metadata": {
        "id": "nobeBy-r0Owm",
        "trusted": true,
        "execution": {
          "iopub.status.busy": "2024-11-24T02:52:05.047214Z",
          "iopub.execute_input": "2024-11-24T02:52:05.047841Z",
          "iopub.status.idle": "2024-11-24T02:52:05.301171Z",
          "shell.execute_reply.started": "2024-11-24T02:52:05.047809Z",
          "shell.execute_reply": "2024-11-24T02:52:05.300284Z"
        }
      },
      "outputs": [],
      "execution_count": null
    },
    {
      "cell_type": "code",
      "source": [
        "model.predict(cat)"
      ],
      "metadata": {
        "id": "JM6je45rAXrB",
        "trusted": true,
        "execution": {
          "iopub.status.busy": "2024-11-24T02:51:22.529448Z",
          "iopub.execute_input": "2024-11-24T02:51:22.530167Z",
          "iopub.status.idle": "2024-11-24T02:51:22.593615Z",
          "shell.execute_reply.started": "2024-11-24T02:51:22.530134Z",
          "shell.execute_reply": "2024-11-24T02:51:22.592776Z"
        }
      },
      "outputs": [],
      "execution_count": null
    },
    {
      "cell_type": "code",
      "source": [
        "# class_pred = (prediction > 0.5).astype(\"int32\")\n",
        "# class_pred"
      ],
      "metadata": {
        "id": "U3IjsqSJ1fh1"
      },
      "outputs": [],
      "execution_count": null
    }
  ]
}