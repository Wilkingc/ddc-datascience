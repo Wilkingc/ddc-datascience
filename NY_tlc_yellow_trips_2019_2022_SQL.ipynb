{
  "metadata": {
    "kernelspec": {
      "language": "python",
      "display_name": "Python 3",
      "name": "python3"
    },
    "language_info": {
      "name": "python",
      "version": "3.10.14",
      "mimetype": "text/x-python",
      "codemirror_mode": {
        "name": "ipython",
        "version": 3
      },
      "pygments_lexer": "ipython3",
      "nbconvert_exporter": "python",
      "file_extension": ".py"
    },
    "kaggle": {
      "accelerator": "none",
      "dataSources": [],
      "dockerImageVersionId": 30786,
      "isInternetEnabled": true,
      "language": "python",
      "sourceType": "notebook",
      "isGpuEnabled": false
    },
    "colab": {
      "name": "NY_tlc_yellow_trips_2019_2022",
      "provenance": [],
      "include_colab_link": true
    }
  },
  "nbformat_minor": 0,
  "nbformat": 4,
  "cells": [
    {
      "cell_type": "markdown",
      "metadata": {
        "id": "view-in-github",
        "colab_type": "text"
      },
      "source": [
        "<a href=\"https://colab.research.google.com/github/Wilkingc/ddc-datascience/blob/main/NY_tlc_yellow_trips_2019_2022_SQL.ipynb\" target=\"_parent\"><img src=\"https://colab.research.google.com/assets/colab-badge.svg\" alt=\"Open In Colab\"/></a>"
      ]
    },
    {
      "cell_type": "markdown",
      "source": [
        "Let's Import the libraries we will use"
      ],
      "metadata": {
        "id": "uQrfy1xcma-1"
      }
    },
    {
      "cell_type": "code",
      "source": [
        "# pandas module & Numpy\n",
        "import pandas as pd\n",
        "import numpy as np\n",
        "\n",
        "# gcp modules\n",
        "from google.cloud import bigquery\n",
        "\n",
        "#Viz\n",
        "import matplotlib.pyplot as plt\n",
        "import seaborn as sns\n"
      ],
      "metadata": {
        "execution": {
          "iopub.status.busy": "2024-10-27T23:45:35.986718Z",
          "iopub.execute_input": "2024-10-27T23:45:35.987368Z",
          "iopub.status.idle": "2024-10-27T23:45:37.063945Z",
          "shell.execute_reply.started": "2024-10-27T23:45:35.987305Z",
          "shell.execute_reply": "2024-10-27T23:45:37.062563Z"
        },
        "trusted": true,
        "id": "6AP0PDm7ma-2"
      },
      "execution_count": null,
      "outputs": []
    },
    {
      "cell_type": "markdown",
      "source": [
        "Here we create a client and project id to access BigQuery public dataset"
      ],
      "metadata": {
        "id": "gG2ULnu_ma-2"
      }
    },
    {
      "cell_type": "code",
      "source": [
        "project_id = ''\n",
        "client = bigquery.Client()"
      ],
      "metadata": {
        "execution": {
          "iopub.status.busy": "2024-10-27T21:14:37.668553Z",
          "iopub.execute_input": "2024-10-27T21:14:37.66919Z",
          "iopub.status.idle": "2024-10-27T21:14:37.676291Z",
          "shell.execute_reply.started": "2024-10-27T21:14:37.669145Z",
          "shell.execute_reply": "2024-10-27T21:14:37.67484Z"
        },
        "trusted": true,
        "id": "aolnYkiama-3",
        "outputId": "16ea0019-a5e3-434e-fcfc-d87be7a10500"
      },
      "execution_count": null,
      "outputs": [
        {
          "name": "stdout",
          "text": "Using Kaggle's public dataset BigQuery integration.\n",
          "output_type": "stream"
        }
      ]
    },
    {
      "cell_type": "markdown",
      "source": [
        "Identify Bq as project owner and display tables available"
      ],
      "metadata": {
        "id": "xUYfs1-ema-3"
      }
    },
    {
      "cell_type": "code",
      "source": [
        "owner_project_id = \"bigquery-public-data\"\n",
        "\n",
        "# Construct a reference to the \"covid19_google_mobility\" dataset\n",
        "project_dataset = 'new_york_taxi_trips'\n",
        "\n",
        "\n",
        "dataset_ref = client.dataset(project_dataset, project=owner_project_id)\n",
        "\n",
        "# API request - fetch the dataset\n",
        "dataset = client.get_dataset(dataset_ref)\n",
        "\n",
        "# Get all the tables in the dataset\n",
        "tables = list(client.list_tables(dataset))\n",
        "\n",
        "# Print names of all tables in the dataset\n",
        "for table in tables:\n",
        "    print(table.table_id)\n"
      ],
      "metadata": {
        "execution": {
          "iopub.status.busy": "2024-10-28T00:14:19.867254Z",
          "iopub.execute_input": "2024-10-28T00:14:19.868641Z",
          "iopub.status.idle": "2024-10-28T00:14:20.365704Z",
          "shell.execute_reply.started": "2024-10-28T00:14:19.868554Z",
          "shell.execute_reply": "2024-10-28T00:14:20.364443Z"
        },
        "trusted": true,
        "id": "gzO0mYX0ma-3",
        "outputId": "e8334be8-c03f-4d08-9ad1-519230296081"
      },
      "execution_count": null,
      "outputs": [
        {
          "name": "stdout",
          "text": "taxi_zone_geom\ntlc_fhv_trips_2015\ntlc_fhv_trips_2016\ntlc_fhv_trips_2017\ntlc_green_trips_2014\ntlc_green_trips_2015\ntlc_green_trips_2016\ntlc_green_trips_2017\ntlc_green_trips_2018\ntlc_green_trips_2019\ntlc_green_trips_2020\ntlc_green_trips_2021\ntlc_green_trips_2022\ntlc_green_trips_2023\ntlc_yellow_trips_2011\ntlc_yellow_trips_2012\ntlc_yellow_trips_2013\ntlc_yellow_trips_2014\ntlc_yellow_trips_2015\ntlc_yellow_trips_2016\ntlc_yellow_trips_2017\ntlc_yellow_trips_2018\ntlc_yellow_trips_2019\ntlc_yellow_trips_2020\ntlc_yellow_trips_2021\ntlc_yellow_trips_2022\ntlc_yellow_trips_2023\n",
          "output_type": "stream"
        }
      ]
    },
    {
      "cell_type": "markdown",
      "source": [
        "We have:\n",
        "- 8496 rows\n",
        "- 1 table of Taxi Zone\n",
        "- 3 For-Hire Vehicle tables\n",
        "- 10 Green taxi tables\n",
        "- 13 Yellow cabs table"
      ],
      "metadata": {
        "id": "Mz5XvzRzma-3"
      }
    },
    {
      "cell_type": "code",
      "source": [
        "dataset_ref = client.dataset(\"new_york_taxi_trips\", project=\"bigquery-public-data\")\n",
        "table_ref = dataset_ref.table(\"tlc_yellow_trips_2022\")"
      ],
      "metadata": {
        "execution": {
          "iopub.status.busy": "2024-10-27T21:14:38.142935Z",
          "iopub.execute_input": "2024-10-27T21:14:38.143438Z",
          "iopub.status.idle": "2024-10-27T21:14:38.149756Z",
          "shell.execute_reply.started": "2024-10-27T21:14:38.143383Z",
          "shell.execute_reply": "2024-10-27T21:14:38.148123Z"
        },
        "trusted": true,
        "id": "s7HxDTiyma-4"
      },
      "execution_count": null,
      "outputs": []
    },
    {
      "cell_type": "markdown",
      "source": [
        "Let's display 2022 table"
      ],
      "metadata": {
        "id": "JTgTk8_qma-4"
      }
    },
    {
      "cell_type": "code",
      "source": [
        "client.list_rows(table_ref, max_results=5).to_dataframe()"
      ],
      "metadata": {
        "execution": {
          "iopub.status.busy": "2024-10-27T21:14:38.151886Z",
          "iopub.execute_input": "2024-10-27T21:14:38.153698Z",
          "iopub.status.idle": "2024-10-27T21:14:39.015786Z",
          "shell.execute_reply.started": "2024-10-27T21:14:38.153633Z",
          "shell.execute_reply": "2024-10-27T21:14:39.014484Z"
        },
        "trusted": true,
        "id": "-sootF5Yma-4",
        "outputId": "f5b141ff-f746-4aa0-b246-de28e0e9bebd"
      },
      "execution_count": null,
      "outputs": [
        {
          "execution_count": 5,
          "output_type": "execute_result",
          "data": {
            "text/plain": "  vendor_id           pickup_datetime          dropoff_datetime  \\\n0         1 2022-01-01 00:40:15+00:00 2022-01-01 01:09:48+00:00   \n1         2 2022-01-01 00:46:09+00:00 2022-01-01 01:08:06+00:00   \n2         2 2022-01-01 18:04:06+00:00 2022-01-01 18:40:52+00:00   \n3         2 2022-01-01 00:55:48+00:00 2022-01-01 01:14:24+00:00   \n4         2 2022-01-01 00:42:45+00:00 2022-01-01 00:56:15+00:00   \n\n   passenger_count trip_distance rate_code store_and_fwd_flag payment_type  \\\n0                1  10.300000000       1.0                  N            1   \n1                6   5.950000000       1.0                  N            1   \n2                1   9.700000000       1.0                  N            1   \n3                1   6.670000000       1.0                  N            1   \n4                2   6.490000000       1.0                  N            1   \n\n    fare_amount        extra      mta_tax    tip_amount tolls_amount  \\\n0  33.000000000  3.000000000  0.500000000  13.000000000  6.550000000   \n1  20.000000000  0.500000000  0.500000000   4.760000000         0E-9   \n2  34.500000000  0.500000000  0.500000000   9.220000000  6.550000000   \n3  21.000000000  0.500000000  0.500000000  15.000000000         0E-9   \n4  19.500000000  0.500000000  0.500000000   6.620000000         0E-9   \n\n  imp_surcharge  airport_fee  total_amount pickup_location_id  \\\n0   0.300000000         0E-9  56.350000000                138   \n1   0.300000000         0E-9  28.560000000                 79   \n2   0.300000000  1.250000000  55.320000000                138   \n3   0.300000000  1.250000000  41.050000000                138   \n4   0.300000000  1.250000000  28.670000000                138   \n\n  dropoff_location_id  data_file_year  data_file_month  \n0                 161            2022                1  \n1                 238            2022                1  \n2                  48            2022                1  \n3                 229            2022                1  \n4                 112            2022                1  ",
            "text/html": "<div>\n<style scoped>\n    .dataframe tbody tr th:only-of-type {\n        vertical-align: middle;\n    }\n\n    .dataframe tbody tr th {\n        vertical-align: top;\n    }\n\n    .dataframe thead th {\n        text-align: right;\n    }\n</style>\n<table border=\"1\" class=\"dataframe\">\n  <thead>\n    <tr style=\"text-align: right;\">\n      <th></th>\n      <th>vendor_id</th>\n      <th>pickup_datetime</th>\n      <th>dropoff_datetime</th>\n      <th>passenger_count</th>\n      <th>trip_distance</th>\n      <th>rate_code</th>\n      <th>store_and_fwd_flag</th>\n      <th>payment_type</th>\n      <th>fare_amount</th>\n      <th>extra</th>\n      <th>mta_tax</th>\n      <th>tip_amount</th>\n      <th>tolls_amount</th>\n      <th>imp_surcharge</th>\n      <th>airport_fee</th>\n      <th>total_amount</th>\n      <th>pickup_location_id</th>\n      <th>dropoff_location_id</th>\n      <th>data_file_year</th>\n      <th>data_file_month</th>\n    </tr>\n  </thead>\n  <tbody>\n    <tr>\n      <th>0</th>\n      <td>1</td>\n      <td>2022-01-01 00:40:15+00:00</td>\n      <td>2022-01-01 01:09:48+00:00</td>\n      <td>1</td>\n      <td>10.300000000</td>\n      <td>1.0</td>\n      <td>N</td>\n      <td>1</td>\n      <td>33.000000000</td>\n      <td>3.000000000</td>\n      <td>0.500000000</td>\n      <td>13.000000000</td>\n      <td>6.550000000</td>\n      <td>0.300000000</td>\n      <td>0E-9</td>\n      <td>56.350000000</td>\n      <td>138</td>\n      <td>161</td>\n      <td>2022</td>\n      <td>1</td>\n    </tr>\n    <tr>\n      <th>1</th>\n      <td>2</td>\n      <td>2022-01-01 00:46:09+00:00</td>\n      <td>2022-01-01 01:08:06+00:00</td>\n      <td>6</td>\n      <td>5.950000000</td>\n      <td>1.0</td>\n      <td>N</td>\n      <td>1</td>\n      <td>20.000000000</td>\n      <td>0.500000000</td>\n      <td>0.500000000</td>\n      <td>4.760000000</td>\n      <td>0E-9</td>\n      <td>0.300000000</td>\n      <td>0E-9</td>\n      <td>28.560000000</td>\n      <td>79</td>\n      <td>238</td>\n      <td>2022</td>\n      <td>1</td>\n    </tr>\n    <tr>\n      <th>2</th>\n      <td>2</td>\n      <td>2022-01-01 18:04:06+00:00</td>\n      <td>2022-01-01 18:40:52+00:00</td>\n      <td>1</td>\n      <td>9.700000000</td>\n      <td>1.0</td>\n      <td>N</td>\n      <td>1</td>\n      <td>34.500000000</td>\n      <td>0.500000000</td>\n      <td>0.500000000</td>\n      <td>9.220000000</td>\n      <td>6.550000000</td>\n      <td>0.300000000</td>\n      <td>1.250000000</td>\n      <td>55.320000000</td>\n      <td>138</td>\n      <td>48</td>\n      <td>2022</td>\n      <td>1</td>\n    </tr>\n    <tr>\n      <th>3</th>\n      <td>2</td>\n      <td>2022-01-01 00:55:48+00:00</td>\n      <td>2022-01-01 01:14:24+00:00</td>\n      <td>1</td>\n      <td>6.670000000</td>\n      <td>1.0</td>\n      <td>N</td>\n      <td>1</td>\n      <td>21.000000000</td>\n      <td>0.500000000</td>\n      <td>0.500000000</td>\n      <td>15.000000000</td>\n      <td>0E-9</td>\n      <td>0.300000000</td>\n      <td>1.250000000</td>\n      <td>41.050000000</td>\n      <td>138</td>\n      <td>229</td>\n      <td>2022</td>\n      <td>1</td>\n    </tr>\n    <tr>\n      <th>4</th>\n      <td>2</td>\n      <td>2022-01-01 00:42:45+00:00</td>\n      <td>2022-01-01 00:56:15+00:00</td>\n      <td>2</td>\n      <td>6.490000000</td>\n      <td>1.0</td>\n      <td>N</td>\n      <td>1</td>\n      <td>19.500000000</td>\n      <td>0.500000000</td>\n      <td>0.500000000</td>\n      <td>6.620000000</td>\n      <td>0E-9</td>\n      <td>0.300000000</td>\n      <td>1.250000000</td>\n      <td>28.670000000</td>\n      <td>138</td>\n      <td>112</td>\n      <td>2022</td>\n      <td>1</td>\n    </tr>\n  </tbody>\n</table>\n</div>"
          },
          "metadata": {}
        }
      ]
    },
    {
      "cell_type": "markdown",
      "source": [
        "How many trips we had in 2022?"
      ],
      "metadata": {
        "id": "M1R4DY8cma-4"
      }
    },
    {
      "cell_type": "code",
      "source": [
        "query = \"\"\"\n",
        "    SELECT COUNT(*) AS num_trips\n",
        "    FROM `bigquery-public-data.new_york_taxi_trips.tlc_yellow_trips_2022`\n",
        "\"\"\"\n",
        "\n",
        "query_job = client.query(query)\n",
        "results = query_job.result()  # Waits for the query to finish\n",
        "\n",
        "for row in results:\n",
        "    print(f\"Number of trips: {row.num_trips}\")"
      ],
      "metadata": {
        "execution": {
          "iopub.status.busy": "2024-10-27T21:14:39.017822Z",
          "iopub.execute_input": "2024-10-27T21:14:39.018306Z",
          "iopub.status.idle": "2024-10-27T21:14:39.979959Z",
          "shell.execute_reply.started": "2024-10-27T21:14:39.018251Z",
          "shell.execute_reply": "2024-10-27T21:14:39.978562Z"
        },
        "trusted": true,
        "id": "A6zjW75Wma-4",
        "outputId": "9a77d1ee-de19-4e93-d6e9-f0418eaf5913"
      },
      "execution_count": null,
      "outputs": [
        {
          "name": "stdout",
          "text": "Number of trips: 36256539\n",
          "output_type": "stream"
        }
      ]
    },
    {
      "cell_type": "markdown",
      "source": [
        "Which one was the pickup location with the most customers in year 2022?"
      ],
      "metadata": {
        "id": "vemYBybUma-4"
      }
    },
    {
      "cell_type": "code",
      "source": [
        "query = \"\"\"\n",
        "SELECT\n",
        "  pickup_location_id,\n",
        "  COUNT(*) AS max_pickup_location\n",
        "FROM\n",
        "  `bigquery-public-data.new_york_taxi_trips.tlc_yellow_trips_2022`\n",
        "GROUP BY\n",
        "  pickup_location_id\n",
        "ORDER BY\n",
        "  max_pickup_location DESC\n",
        "LIMIT 10\n",
        "\"\"\"\n",
        "\n",
        "query_job = client.query(query)\n",
        "results = query_job.result()\n",
        "\n",
        "# Convert to Pandas DataFrame\n",
        "df = results.to_dataframe()\n",
        "df"
      ],
      "metadata": {
        "execution": {
          "iopub.status.busy": "2024-10-27T21:14:39.981835Z",
          "iopub.execute_input": "2024-10-27T21:14:39.982262Z",
          "iopub.status.idle": "2024-10-27T21:14:40.891629Z",
          "shell.execute_reply.started": "2024-10-27T21:14:39.982219Z",
          "shell.execute_reply": "2024-10-27T21:14:40.890425Z"
        },
        "trusted": true,
        "id": "LMDH19iXma-4",
        "outputId": "3de2d0f1-dafd-461a-92e7-1cc4da87d144"
      },
      "execution_count": null,
      "outputs": [
        {
          "execution_count": 7,
          "output_type": "execute_result",
          "data": {
            "text/plain": "  pickup_location_id  max_pickup_location\n0                132              1743244\n1                237              1696345\n2                236              1508812\n3                161              1449470\n4                186              1183757\n5                162              1177979\n6                142              1174453\n7                230              1119571\n8                170              1116450\n9                 48              1107894",
            "text/html": "<div>\n<style scoped>\n    .dataframe tbody tr th:only-of-type {\n        vertical-align: middle;\n    }\n\n    .dataframe tbody tr th {\n        vertical-align: top;\n    }\n\n    .dataframe thead th {\n        text-align: right;\n    }\n</style>\n<table border=\"1\" class=\"dataframe\">\n  <thead>\n    <tr style=\"text-align: right;\">\n      <th></th>\n      <th>pickup_location_id</th>\n      <th>max_pickup_location</th>\n    </tr>\n  </thead>\n  <tbody>\n    <tr>\n      <th>0</th>\n      <td>132</td>\n      <td>1743244</td>\n    </tr>\n    <tr>\n      <th>1</th>\n      <td>237</td>\n      <td>1696345</td>\n    </tr>\n    <tr>\n      <th>2</th>\n      <td>236</td>\n      <td>1508812</td>\n    </tr>\n    <tr>\n      <th>3</th>\n      <td>161</td>\n      <td>1449470</td>\n    </tr>\n    <tr>\n      <th>4</th>\n      <td>186</td>\n      <td>1183757</td>\n    </tr>\n    <tr>\n      <th>5</th>\n      <td>162</td>\n      <td>1177979</td>\n    </tr>\n    <tr>\n      <th>6</th>\n      <td>142</td>\n      <td>1174453</td>\n    </tr>\n    <tr>\n      <th>7</th>\n      <td>230</td>\n      <td>1119571</td>\n    </tr>\n    <tr>\n      <th>8</th>\n      <td>170</td>\n      <td>1116450</td>\n    </tr>\n    <tr>\n      <th>9</th>\n      <td>48</td>\n      <td>1107894</td>\n    </tr>\n  </tbody>\n</table>\n</div>"
          },
          "metadata": {}
        }
      ]
    },
    {
      "cell_type": "markdown",
      "source": [
        "Let's see a trip count per month"
      ],
      "metadata": {
        "id": "FPSmeEjzma-4"
      }
    },
    {
      "cell_type": "code",
      "source": [
        "query = \"\"\"\n",
        "SELECT DATE_TRUNC(pickup_datetime, Month) AS Month, COUNT(*) AS month_trip_count\n",
        "FROM `bigquery-public-data.new_york_taxi_trips.tlc_yellow_trips_2022`\n",
        "GROUP BY month\n",
        "ORDER BY month DESC\n",
        "limit 10\n",
        "\n",
        "\"\"\"\n",
        "\n",
        "query_job = client.query(query)\n",
        "results = query_job.result()\n",
        "\n",
        "df1 = results.to_dataframe()\n",
        "df1"
      ],
      "metadata": {
        "execution": {
          "iopub.status.busy": "2024-10-28T00:35:49.788757Z",
          "iopub.execute_input": "2024-10-28T00:35:49.789322Z",
          "iopub.status.idle": "2024-10-28T00:35:52.493002Z",
          "shell.execute_reply.started": "2024-10-28T00:35:49.789249Z",
          "shell.execute_reply": "2024-10-28T00:35:52.491544Z"
        },
        "trusted": true,
        "id": "kGSEBl_sma-4",
        "outputId": "1a4c69f4-2b27-4516-ec8b-2bb0839a62b6"
      },
      "execution_count": null,
      "outputs": [
        {
          "execution_count": 79,
          "output_type": "execute_result",
          "data": {
            "text/plain": "                      Month  month_trip_count\n0 2023-04-01 00:00:00+00:00                 1\n1 2022-12-01 00:00:00+00:00                57\n2 2022-11-01 00:00:00+00:00           3252628\n3 2022-10-01 00:00:00+00:00           3675372\n4 2022-09-01 00:00:00+00:00           3183783\n5 2022-08-01 00:00:00+00:00           3152693\n6 2022-07-01 00:00:00+00:00           3174362\n7 2022-06-01 00:00:00+00:00           3557691\n8 2022-05-01 00:00:00+00:00           3588291\n9 2022-04-01 00:00:00+00:00           3599901",
            "text/html": "<div>\n<style scoped>\n    .dataframe tbody tr th:only-of-type {\n        vertical-align: middle;\n    }\n\n    .dataframe tbody tr th {\n        vertical-align: top;\n    }\n\n    .dataframe thead th {\n        text-align: right;\n    }\n</style>\n<table border=\"1\" class=\"dataframe\">\n  <thead>\n    <tr style=\"text-align: right;\">\n      <th></th>\n      <th>Month</th>\n      <th>month_trip_count</th>\n    </tr>\n  </thead>\n  <tbody>\n    <tr>\n      <th>0</th>\n      <td>2023-04-01 00:00:00+00:00</td>\n      <td>1</td>\n    </tr>\n    <tr>\n      <th>1</th>\n      <td>2022-12-01 00:00:00+00:00</td>\n      <td>57</td>\n    </tr>\n    <tr>\n      <th>2</th>\n      <td>2022-11-01 00:00:00+00:00</td>\n      <td>3252628</td>\n    </tr>\n    <tr>\n      <th>3</th>\n      <td>2022-10-01 00:00:00+00:00</td>\n      <td>3675372</td>\n    </tr>\n    <tr>\n      <th>4</th>\n      <td>2022-09-01 00:00:00+00:00</td>\n      <td>3183783</td>\n    </tr>\n    <tr>\n      <th>5</th>\n      <td>2022-08-01 00:00:00+00:00</td>\n      <td>3152693</td>\n    </tr>\n    <tr>\n      <th>6</th>\n      <td>2022-07-01 00:00:00+00:00</td>\n      <td>3174362</td>\n    </tr>\n    <tr>\n      <th>7</th>\n      <td>2022-06-01 00:00:00+00:00</td>\n      <td>3557691</td>\n    </tr>\n    <tr>\n      <th>8</th>\n      <td>2022-05-01 00:00:00+00:00</td>\n      <td>3588291</td>\n    </tr>\n    <tr>\n      <th>9</th>\n      <td>2022-04-01 00:00:00+00:00</td>\n      <td>3599901</td>\n    </tr>\n  </tbody>\n</table>\n</div>"
          },
          "metadata": {}
        }
      ]
    },
    {
      "cell_type": "markdown",
      "source": [
        "What was the average fare by pickup location?"
      ],
      "metadata": {
        "id": "3rPM4zGsma-5"
      }
    },
    {
      "cell_type": "code",
      "source": [
        "query = \"\"\"\n",
        "SELECT\n",
        "  pickup_location_id,\n",
        "  AVG(fare_amount) AS avg_fare\n",
        "FROM\n",
        "  `bigquery-public-data.new_york_taxi_trips.tlc_yellow_trips_2022`\n",
        "GROUP BY\n",
        "  pickup_location_id\n",
        "ORDER BY\n",
        "  avg_fare DESC\n",
        "  limit 10\n",
        "\"\"\"\n",
        "\n",
        "query_job = client.query(query)\n",
        "results = query_job.result()\n",
        "\n",
        "df2 = results.to_dataframe()\n",
        "df2"
      ],
      "metadata": {
        "execution": {
          "iopub.status.busy": "2024-10-27T21:14:41.918977Z",
          "iopub.execute_input": "2024-10-27T21:14:41.919384Z",
          "iopub.status.idle": "2024-10-27T21:14:42.821207Z",
          "shell.execute_reply.started": "2024-10-27T21:14:41.919342Z",
          "shell.execute_reply": "2024-10-27T21:14:42.81988Z"
        },
        "trusted": true,
        "id": "E8DOkO4Sma-5",
        "outputId": "02fbf624-6ec4-440e-a0eb-3e43b0dd3b9c"
      },
      "execution_count": null,
      "outputs": [
        {
          "execution_count": 9,
          "output_type": "execute_result",
          "data": {
            "text/plain": "  pickup_location_id      avg_fare\n0                  1  84.983086985\n1                 84  76.480714286\n2                251  70.122285714\n3                  5  68.206764168\n4                156  64.908955224\n5                204  64.690476190\n6                 44  60.583890339\n7                265  58.173549817\n8                176  56.500000000\n9                109  53.164680851",
            "text/html": "<div>\n<style scoped>\n    .dataframe tbody tr th:only-of-type {\n        vertical-align: middle;\n    }\n\n    .dataframe tbody tr th {\n        vertical-align: top;\n    }\n\n    .dataframe thead th {\n        text-align: right;\n    }\n</style>\n<table border=\"1\" class=\"dataframe\">\n  <thead>\n    <tr style=\"text-align: right;\">\n      <th></th>\n      <th>pickup_location_id</th>\n      <th>avg_fare</th>\n    </tr>\n  </thead>\n  <tbody>\n    <tr>\n      <th>0</th>\n      <td>1</td>\n      <td>84.983086985</td>\n    </tr>\n    <tr>\n      <th>1</th>\n      <td>84</td>\n      <td>76.480714286</td>\n    </tr>\n    <tr>\n      <th>2</th>\n      <td>251</td>\n      <td>70.122285714</td>\n    </tr>\n    <tr>\n      <th>3</th>\n      <td>5</td>\n      <td>68.206764168</td>\n    </tr>\n    <tr>\n      <th>4</th>\n      <td>156</td>\n      <td>64.908955224</td>\n    </tr>\n    <tr>\n      <th>5</th>\n      <td>204</td>\n      <td>64.690476190</td>\n    </tr>\n    <tr>\n      <th>6</th>\n      <td>44</td>\n      <td>60.583890339</td>\n    </tr>\n    <tr>\n      <th>7</th>\n      <td>265</td>\n      <td>58.173549817</td>\n    </tr>\n    <tr>\n      <th>8</th>\n      <td>176</td>\n      <td>56.500000000</td>\n    </tr>\n    <tr>\n      <th>9</th>\n      <td>109</td>\n      <td>53.164680851</td>\n    </tr>\n  </tbody>\n</table>\n</div>"
          },
          "metadata": {}
        }
      ]
    },
    {
      "cell_type": "markdown",
      "source": [
        "Let's see the trip distance average"
      ],
      "metadata": {
        "id": "pcHFMqRlma-5"
      }
    },
    {
      "cell_type": "code",
      "source": [
        "query = \"\"\"\n",
        "SELECT\n",
        "  trip_distance,\n",
        "  COUNT(*) AS trip_count\n",
        "FROM\n",
        "  `bigquery-public-data.new_york_taxi_trips.tlc_yellow_trips_2022`\n",
        "GROUP BY\n",
        "  trip_distance\n",
        "ORDER BY\n",
        "  trip_distance DESC\n",
        "  limit 10\n",
        "\"\"\"\n",
        "\n",
        "query_job = client.query(query)\n",
        "results = query_job.result()\n",
        "\n",
        "df3 = results.to_dataframe()\n",
        "df3.mean()"
      ],
      "metadata": {
        "execution": {
          "iopub.status.busy": "2024-10-28T00:42:32.198059Z",
          "iopub.execute_input": "2024-10-28T00:42:32.199239Z",
          "iopub.status.idle": "2024-10-28T00:42:33.139304Z",
          "shell.execute_reply.started": "2024-10-28T00:42:32.199186Z",
          "shell.execute_reply": "2024-10-28T00:42:33.138027Z"
        },
        "trusted": true,
        "id": "z5nCGhJdma-5",
        "outputId": "c2b6f78a-e6e2-41d2-ef78-0d7281a8b45c"
      },
      "execution_count": null,
      "outputs": [
        {
          "execution_count": 87,
          "output_type": "execute_result",
          "data": {
            "text/plain": "trip_distance    339967.308\ntrip_count              1.0\ndtype: object"
          },
          "metadata": {}
        }
      ]
    },
    {
      "cell_type": "markdown",
      "source": [
        "How did COVID-19 impact NY transportation fare amount between 2019-2020?"
      ],
      "metadata": {
        "id": "G2ZR4SsYma-5"
      }
    },
    {
      "cell_type": "code",
      "source": [
        "query = \"\"\"\n",
        "SELECT\n",
        "  t19.trip_distance AS trip_distance_2019,\n",
        "  t20.trip_distance AS trip_distance_2020,\n",
        "  t19.fare_amount AS fare_amount_2019,\n",
        "  t20.fare_amount AS fare_amount_2020\n",
        "FROM\n",
        "  `bigquery-public-data.new_york_taxi_trips.tlc_yellow_trips_2019` AS t19\n",
        "INNER JOIN\n",
        "  `bigquery-public-data.new_york_taxi_trips.tlc_yellow_trips_2020` AS t20\n",
        "ON\n",
        "  t19.vendor_id = t20.vendor_id\n",
        "WHERE\n",
        "  t19.pickup_datetime BETWEEN '2019-01-01' AND '2019-06-30'\n",
        "  AND t20.pickup_datetime BETWEEN '2020-01-01' AND '2020-06-30'\n",
        "  limit 10\n",
        "\"\"\"\n",
        "\n",
        "query_job = client.query(query)\n",
        "results = query_job.result()\n",
        "\n",
        "df4 = results.to_dataframe()\n",
        "df4"
      ],
      "metadata": {
        "execution": {
          "iopub.status.busy": "2024-10-28T00:42:59.868987Z",
          "iopub.execute_input": "2024-10-28T00:42:59.869434Z",
          "iopub.status.idle": "2024-10-28T00:43:00.862974Z",
          "shell.execute_reply.started": "2024-10-28T00:42:59.869392Z",
          "shell.execute_reply": "2024-10-28T00:43:00.861792Z"
        },
        "trusted": true,
        "id": "hyKGkRa2ma-5",
        "outputId": "f3e22aae-5a77-40e1-9b7b-b64be924db72"
      },
      "execution_count": null,
      "outputs": [
        {
          "execution_count": 88,
          "output_type": "execute_result",
          "data": {
            "text/plain": "  trip_distance_2019 trip_distance_2020 fare_amount_2019 fare_amount_2020\n0        0.490000000       18.500000000      6.200000000     47.020000000\n1        0.490000000       10.860000000      6.200000000     59.240000000\n2        0.490000000        6.340000000      6.200000000     27.170000000\n3        0.490000000        9.530000000      6.200000000     28.570000000\n4        0.490000000        6.180000000      6.200000000     21.560000000\n5        0.490000000        7.030000000      6.200000000     30.720000000\n6        0.490000000        7.030000000      6.200000000     30.720000000\n7        0.490000000        7.030000000      6.200000000     30.720000000\n8        0.490000000        7.030000000      6.200000000     30.720000000\n9        0.490000000        2.890000000      6.200000000     16.620000000",
            "text/html": "<div>\n<style scoped>\n    .dataframe tbody tr th:only-of-type {\n        vertical-align: middle;\n    }\n\n    .dataframe tbody tr th {\n        vertical-align: top;\n    }\n\n    .dataframe thead th {\n        text-align: right;\n    }\n</style>\n<table border=\"1\" class=\"dataframe\">\n  <thead>\n    <tr style=\"text-align: right;\">\n      <th></th>\n      <th>trip_distance_2019</th>\n      <th>trip_distance_2020</th>\n      <th>fare_amount_2019</th>\n      <th>fare_amount_2020</th>\n    </tr>\n  </thead>\n  <tbody>\n    <tr>\n      <th>0</th>\n      <td>0.490000000</td>\n      <td>18.500000000</td>\n      <td>6.200000000</td>\n      <td>47.020000000</td>\n    </tr>\n    <tr>\n      <th>1</th>\n      <td>0.490000000</td>\n      <td>10.860000000</td>\n      <td>6.200000000</td>\n      <td>59.240000000</td>\n    </tr>\n    <tr>\n      <th>2</th>\n      <td>0.490000000</td>\n      <td>6.340000000</td>\n      <td>6.200000000</td>\n      <td>27.170000000</td>\n    </tr>\n    <tr>\n      <th>3</th>\n      <td>0.490000000</td>\n      <td>9.530000000</td>\n      <td>6.200000000</td>\n      <td>28.570000000</td>\n    </tr>\n    <tr>\n      <th>4</th>\n      <td>0.490000000</td>\n      <td>6.180000000</td>\n      <td>6.200000000</td>\n      <td>21.560000000</td>\n    </tr>\n    <tr>\n      <th>5</th>\n      <td>0.490000000</td>\n      <td>7.030000000</td>\n      <td>6.200000000</td>\n      <td>30.720000000</td>\n    </tr>\n    <tr>\n      <th>6</th>\n      <td>0.490000000</td>\n      <td>7.030000000</td>\n      <td>6.200000000</td>\n      <td>30.720000000</td>\n    </tr>\n    <tr>\n      <th>7</th>\n      <td>0.490000000</td>\n      <td>7.030000000</td>\n      <td>6.200000000</td>\n      <td>30.720000000</td>\n    </tr>\n    <tr>\n      <th>8</th>\n      <td>0.490000000</td>\n      <td>7.030000000</td>\n      <td>6.200000000</td>\n      <td>30.720000000</td>\n    </tr>\n    <tr>\n      <th>9</th>\n      <td>0.490000000</td>\n      <td>2.890000000</td>\n      <td>6.200000000</td>\n      <td>16.620000000</td>\n    </tr>\n  </tbody>\n</table>\n</div>"
          },
          "metadata": {}
        }
      ]
    },
    {
      "cell_type": "markdown",
      "source": [
        "Let's understand some of our outliers finding the highest fare paid by customers"
      ],
      "metadata": {
        "id": "viufZqtIma-5"
      }
    },
    {
      "cell_type": "code",
      "source": [
        "query = \"\"\"\n",
        "SELECT\n",
        "  fare_amount,\n",
        "  COUNT(*) AS trip_count\n",
        "FROM\n",
        "  `bigquery-public-data.new_york_taxi_trips.tlc_yellow_trips_2022`\n",
        "GROUP BY\n",
        "  fare_amount\n",
        "HAVING\n",
        "  fare_amount > 200\n",
        "ORDER BY\n",
        "  trip_count\n",
        "  limit 10\n",
        "\"\"\"\n",
        "\n",
        "query_job = client.query(query)\n",
        "results = query_job.result()\n",
        "\n",
        "df5 = results.to_dataframe()\n",
        "df5"
      ],
      "metadata": {
        "execution": {
          "iopub.status.busy": "2024-10-27T23:17:41.786283Z",
          "iopub.execute_input": "2024-10-27T23:17:41.786872Z",
          "iopub.status.idle": "2024-10-27T23:17:43.243095Z",
          "shell.execute_reply.started": "2024-10-27T23:17:41.786819Z",
          "shell.execute_reply": "2024-10-27T23:17:43.241623Z"
        },
        "trusted": true,
        "id": "iztwc919ma-5",
        "outputId": "9f62e79b-71b0-449a-d2e2-2cd54bb47075"
      },
      "execution_count": null,
      "outputs": [
        {
          "execution_count": 42,
          "output_type": "execute_result",
          "data": {
            "text/plain": "     fare_amount  trip_count\n0  222.550000000           1\n1  373.500000000           1\n2  280.250000000           1\n3  353.000000000           1\n4  464.000000000           1\n5  538.000000000           1\n6  870.000000000           1\n7  413.500000000           1\n8  340.500000000           1\n9  462.000000000           1",
            "text/html": "<div>\n<style scoped>\n    .dataframe tbody tr th:only-of-type {\n        vertical-align: middle;\n    }\n\n    .dataframe tbody tr th {\n        vertical-align: top;\n    }\n\n    .dataframe thead th {\n        text-align: right;\n    }\n</style>\n<table border=\"1\" class=\"dataframe\">\n  <thead>\n    <tr style=\"text-align: right;\">\n      <th></th>\n      <th>fare_amount</th>\n      <th>trip_count</th>\n    </tr>\n  </thead>\n  <tbody>\n    <tr>\n      <th>0</th>\n      <td>222.550000000</td>\n      <td>1</td>\n    </tr>\n    <tr>\n      <th>1</th>\n      <td>373.500000000</td>\n      <td>1</td>\n    </tr>\n    <tr>\n      <th>2</th>\n      <td>280.250000000</td>\n      <td>1</td>\n    </tr>\n    <tr>\n      <th>3</th>\n      <td>353.000000000</td>\n      <td>1</td>\n    </tr>\n    <tr>\n      <th>4</th>\n      <td>464.000000000</td>\n      <td>1</td>\n    </tr>\n    <tr>\n      <th>5</th>\n      <td>538.000000000</td>\n      <td>1</td>\n    </tr>\n    <tr>\n      <th>6</th>\n      <td>870.000000000</td>\n      <td>1</td>\n    </tr>\n    <tr>\n      <th>7</th>\n      <td>413.500000000</td>\n      <td>1</td>\n    </tr>\n    <tr>\n      <th>8</th>\n      <td>340.500000000</td>\n      <td>1</td>\n    </tr>\n    <tr>\n      <th>9</th>\n      <td>462.000000000</td>\n      <td>1</td>\n    </tr>\n  </tbody>\n</table>\n</div>"
          },
          "metadata": {}
        }
      ]
    },
    {
      "cell_type": "code",
      "source": [
        "fig = plt.figure()\n",
        "x = df5\n",
        "plt.plot(x, '-');\n",
        "plt.title(\"Fare amount vs Trips\", size=20, bbox=dict(facecolor='blue', alpha=0.1))\n",
        "plt.xlabel(\"Fare Amount\")\n",
        "plt.ylabel(\"Trip Count\")\n",
        "plt.plot(x, '--');"
      ],
      "metadata": {
        "execution": {
          "iopub.status.busy": "2024-10-27T23:15:26.225487Z",
          "iopub.execute_input": "2024-10-27T23:15:26.226073Z",
          "iopub.status.idle": "2024-10-27T23:15:26.599705Z",
          "shell.execute_reply.started": "2024-10-27T23:15:26.22602Z",
          "shell.execute_reply": "2024-10-27T23:15:26.598396Z"
        },
        "trusted": true,
        "id": "-_nH_lHtma-5",
        "outputId": "0132661a-d459-4413-c742-8ec1a74ba42d"
      },
      "execution_count": null,
      "outputs": [
        {
          "output_type": "display_data",
          "data": {
            "text/plain": "<Figure size 640x480 with 1 Axes>",
            "image/png": "[encoded data removed]"
          },
          "metadata": {}
        }
      ]
    },
    {
      "cell_type": "markdown",
      "source": [
        "What was the most used payment type?"
      ],
      "metadata": {
        "id": "Xaf1_T9Nma-5"
      }
    },
    {
      "cell_type": "code",
      "source": [
        "query = \"\"\"\n",
        "SELECT\n",
        "  payment_type,\n",
        "  COUNT(*) AS trip_count\n",
        "FROM\n",
        "  `bigquery-public-data.new_york_taxi_trips.tlc_yellow_trips_2022`\n",
        "GROUP BY\n",
        "  payment_type\n",
        "LIMIT 10\n",
        "\"\"\"\n",
        "\n",
        "query_job = client.query(query)\n",
        "results = query_job.result()\n",
        "\n",
        "df6 = results.to_dataframe()\n",
        "df6"
      ],
      "metadata": {
        "execution": {
          "iopub.status.busy": "2024-10-27T23:48:29.699482Z",
          "iopub.execute_input": "2024-10-27T23:48:29.700088Z",
          "iopub.status.idle": "2024-10-27T23:48:31.308051Z",
          "shell.execute_reply.started": "2024-10-27T23:48:29.700033Z",
          "shell.execute_reply": "2024-10-27T23:48:31.306921Z"
        },
        "trusted": true,
        "id": "3jV_dJWCma-6",
        "outputId": "b6c46cf1-bd42-46d4-b14c-ce8b78e30bf6"
      },
      "execution_count": null,
      "outputs": [
        {
          "execution_count": 49,
          "output_type": "execute_result",
          "data": {
            "text/plain": "  payment_type  trip_count\n0            3      172427\n1            2     7102477\n2            1    27531946\n3            4      207844\n4            0     1241840\n5            5           5",
            "text/html": "<div>\n<style scoped>\n    .dataframe tbody tr th:only-of-type {\n        vertical-align: middle;\n    }\n\n    .dataframe tbody tr th {\n        vertical-align: top;\n    }\n\n    .dataframe thead th {\n        text-align: right;\n    }\n</style>\n<table border=\"1\" class=\"dataframe\">\n  <thead>\n    <tr style=\"text-align: right;\">\n      <th></th>\n      <th>payment_type</th>\n      <th>trip_count</th>\n    </tr>\n  </thead>\n  <tbody>\n    <tr>\n      <th>0</th>\n      <td>3</td>\n      <td>172427</td>\n    </tr>\n    <tr>\n      <th>1</th>\n      <td>2</td>\n      <td>7102477</td>\n    </tr>\n    <tr>\n      <th>2</th>\n      <td>1</td>\n      <td>27531946</td>\n    </tr>\n    <tr>\n      <th>3</th>\n      <td>4</td>\n      <td>207844</td>\n    </tr>\n    <tr>\n      <th>4</th>\n      <td>0</td>\n      <td>1241840</td>\n    </tr>\n    <tr>\n      <th>5</th>\n      <td>5</td>\n      <td>5</td>\n    </tr>\n  </tbody>\n</table>\n</div>"
          },
          "metadata": {}
        }
      ]
    },
    {
      "cell_type": "code",
      "source": [
        "df6.plot(\n",
        "    x = 'payment_type',\n",
        "    y = 'trip_count',\n",
        "    kind='scatter',\n",
        ")\n",
        "plt.title('Payment vs Trips') ;"
      ],
      "metadata": {
        "execution": {
          "iopub.status.busy": "2024-10-27T23:50:16.394788Z",
          "iopub.execute_input": "2024-10-27T23:50:16.395329Z",
          "iopub.status.idle": "2024-10-27T23:50:16.868451Z",
          "shell.execute_reply.started": "2024-10-27T23:50:16.395285Z",
          "shell.execute_reply": "2024-10-27T23:50:16.867194Z"
        },
        "trusted": true,
        "id": "kwNve7toma-6",
        "outputId": "06c2ecac-fa45-46a0-9891-e1ceb8a035d8"
      },
      "execution_count": null,
      "outputs": [
        {
          "output_type": "display_data",
          "data": {
            "text/plain": "<Figure size 640x480 with 1 Axes>",
            "image/png": "[encoded data removed]"
          },
          "metadata": {}
        }
      ]
    },
    {
      "cell_type": "markdown",
      "source": [
        "What was the correlation of average trip distance and fare amount between 2019 and 2022?"
      ],
      "metadata": {
        "id": "OKfe76n1ma-6"
      }
    },
    {
      "cell_type": "code",
      "source": [
        "query = \"\"\"\n",
        "WITH CombinedData AS (\n",
        "  SELECT *\n",
        "  FROM `bigquery-public-data.new_york_taxi_trips.tlc_yellow_trips_2019`\n",
        "  UNION ALL\n",
        "  SELECT *\n",
        "  FROM `bigquery-public-data.new_york_taxi_trips.tlc_yellow_trips_2020`\n",
        "  UNION ALL\n",
        "  SELECT *\n",
        "  FROM `bigquery-public-data.new_york_taxi_trips.tlc_yellow_trips_2021`\n",
        "  UNION ALL\n",
        "  SELECT *\n",
        "  FROM `bigquery-public-data.new_york_taxi_trips.tlc_yellow_trips_2022`\n",
        ")\n",
        "SELECT\n",
        "   data_file_year AS year,\n",
        "  AVG(trip_distance) AS avg_trip_distance,\n",
        "  AVG(fare_amount) AS avg_fare\n",
        "FROM\n",
        "  CombinedData\n",
        "GROUP BY\n",
        "  year\n",
        "LIMIT 10\n",
        "\"\"\"\n",
        "\n",
        "query_job = client.query(query)\n",
        "results = query_job.result()\n",
        "\n",
        "df7 = results.to_dataframe()\n",
        "df7"
      ],
      "metadata": {
        "execution": {
          "iopub.status.busy": "2024-10-27T23:58:52.765003Z",
          "iopub.execute_input": "2024-10-27T23:58:52.765502Z",
          "iopub.status.idle": "2024-10-27T23:58:55.192294Z",
          "shell.execute_reply.started": "2024-10-27T23:58:52.765461Z",
          "shell.execute_reply": "2024-10-27T23:58:55.191033Z"
        },
        "trusted": true,
        "id": "LyMrtXO7ma-6",
        "outputId": "c11f31e5-fdf8-40b2-b61f-9ffd63f66fe3"
      },
      "execution_count": null,
      "outputs": [
        {
          "execution_count": 58,
          "output_type": "execute_result",
          "data": {
            "text/plain": "   year avg_trip_distance      avg_fare\n0  2020       3.527101117  12.667778214\n1  2021       6.922689675  13.519338117\n2  2019       3.018350902  13.412640750\n3  2022       6.077670271  14.649168321",
            "text/html": "<div>\n<style scoped>\n    .dataframe tbody tr th:only-of-type {\n        vertical-align: middle;\n    }\n\n    .dataframe tbody tr th {\n        vertical-align: top;\n    }\n\n    .dataframe thead th {\n        text-align: right;\n    }\n</style>\n<table border=\"1\" class=\"dataframe\">\n  <thead>\n    <tr style=\"text-align: right;\">\n      <th></th>\n      <th>year</th>\n      <th>avg_trip_distance</th>\n      <th>avg_fare</th>\n    </tr>\n  </thead>\n  <tbody>\n    <tr>\n      <th>0</th>\n      <td>2020</td>\n      <td>3.527101117</td>\n      <td>12.667778214</td>\n    </tr>\n    <tr>\n      <th>1</th>\n      <td>2021</td>\n      <td>6.922689675</td>\n      <td>13.519338117</td>\n    </tr>\n    <tr>\n      <th>2</th>\n      <td>2019</td>\n      <td>3.018350902</td>\n      <td>13.412640750</td>\n    </tr>\n    <tr>\n      <th>3</th>\n      <td>2022</td>\n      <td>6.077670271</td>\n      <td>14.649168321</td>\n    </tr>\n  </tbody>\n</table>\n</div>"
          },
          "metadata": {}
        }
      ]
    },
    {
      "cell_type": "code",
      "source": [
        "fig, axs = plt.subplots(3, figsize = (8,8))\n",
        "for i, sp in enumerate(axs.flatten()):\n",
        "  sp.hist(df7[df7.columns[i]])\n",
        "  sp.legend()"
      ],
      "metadata": {
        "execution": {
          "iopub.status.busy": "2024-10-28T00:02:26.893764Z",
          "iopub.execute_input": "2024-10-28T00:02:26.894319Z",
          "iopub.status.idle": "2024-10-28T00:02:28.099631Z",
          "shell.execute_reply.started": "2024-10-28T00:02:26.89427Z",
          "shell.execute_reply": "2024-10-28T00:02:28.098543Z"
        },
        "trusted": true,
        "id": "Xavm16gkma-6",
        "outputId": "dcfe366f-ffac-4839-b2f7-cc9addf04685"
      },
      "execution_count": null,
      "outputs": [
        {
          "output_type": "display_data",
          "data": {
            "text/plain": "<Figure size 800x800 with 3 Axes>",
            "image/png": "[encoded data removed]"
          },
          "metadata": {}
        }
      ]
    }
  ]
}